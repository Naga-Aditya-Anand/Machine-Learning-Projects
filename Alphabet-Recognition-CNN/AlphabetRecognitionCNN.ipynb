{
  "nbformat": 4,
  "nbformat_minor": 0,
  "metadata": {
    "colab": {
      "provenance": [],
      "gpuType": "T4",
      "authorship_tag": "ABX9TyNtAg6gGKjeutODu1Zo0n6D",
      "include_colab_link": true
    },
    "kernelspec": {
      "name": "python3",
      "display_name": "Python 3"
    },
    "language_info": {
      "name": "python"
    },
    "accelerator": "GPU",
    "widgets": {
      "application/vnd.jupyter.widget-state+json": {
        "9ec1005a116d4e1e90bb07f73f198304": {
          "model_module": "@jupyter-widgets/controls",
          "model_name": "HBoxModel",
          "model_module_version": "1.5.0",
          "state": {
            "_dom_classes": [],
            "_model_module": "@jupyter-widgets/controls",
            "_model_module_version": "1.5.0",
            "_model_name": "HBoxModel",
            "_view_count": null,
            "_view_module": "@jupyter-widgets/controls",
            "_view_module_version": "1.5.0",
            "_view_name": "HBoxView",
            "box_style": "",
            "children": [
              "IPY_MODEL_1d2c0358d3e24848a625bbff26a7dc19",
              "IPY_MODEL_6a925ba1cc94421ca6747df5f874c076",
              "IPY_MODEL_a25d412a6db245d48efbc469fd3c7a86"
            ],
            "layout": "IPY_MODEL_39efab401add4d25a3f503ca3c397fe2"
          }
        },
        "1d2c0358d3e24848a625bbff26a7dc19": {
          "model_module": "@jupyter-widgets/controls",
          "model_name": "HTMLModel",
          "model_module_version": "1.5.0",
          "state": {
            "_dom_classes": [],
            "_model_module": "@jupyter-widgets/controls",
            "_model_module_version": "1.5.0",
            "_model_name": "HTMLModel",
            "_view_count": null,
            "_view_module": "@jupyter-widgets/controls",
            "_view_module_version": "1.5.0",
            "_view_name": "HTMLView",
            "description": "",
            "description_tooltip": null,
            "layout": "IPY_MODEL_8d41e90bc1814c64845a633348bc51d6",
            "placeholder": "​",
            "style": "IPY_MODEL_b3d2898c640045feb905187b9662a807",
            "value": "Dl Completed...: 100%"
          }
        },
        "6a925ba1cc94421ca6747df5f874c076": {
          "model_module": "@jupyter-widgets/controls",
          "model_name": "FloatProgressModel",
          "model_module_version": "1.5.0",
          "state": {
            "_dom_classes": [],
            "_model_module": "@jupyter-widgets/controls",
            "_model_module_version": "1.5.0",
            "_model_name": "FloatProgressModel",
            "_view_count": null,
            "_view_module": "@jupyter-widgets/controls",
            "_view_module_version": "1.5.0",
            "_view_name": "ProgressView",
            "bar_style": "success",
            "description": "",
            "description_tooltip": null,
            "layout": "IPY_MODEL_d490ed14aea24f2ebf59e6dc056e8906",
            "max": 1,
            "min": 0,
            "orientation": "horizontal",
            "style": "IPY_MODEL_52943392a7f24f40a515ce5d8dc8fb2f",
            "value": 1
          }
        },
        "a25d412a6db245d48efbc469fd3c7a86": {
          "model_module": "@jupyter-widgets/controls",
          "model_name": "HTMLModel",
          "model_module_version": "1.5.0",
          "state": {
            "_dom_classes": [],
            "_model_module": "@jupyter-widgets/controls",
            "_model_module_version": "1.5.0",
            "_model_name": "HTMLModel",
            "_view_count": null,
            "_view_module": "@jupyter-widgets/controls",
            "_view_module_version": "1.5.0",
            "_view_name": "HTMLView",
            "description": "",
            "description_tooltip": null,
            "layout": "IPY_MODEL_d1f097bffa924b3c8cd15cc6042eaef9",
            "placeholder": "​",
            "style": "IPY_MODEL_2a4e28a792bc441883257d1220c11a29",
            "value": " 1/1 [00:12&lt;00:00,  7.95s/ url]"
          }
        },
        "39efab401add4d25a3f503ca3c397fe2": {
          "model_module": "@jupyter-widgets/base",
          "model_name": "LayoutModel",
          "model_module_version": "1.2.0",
          "state": {
            "_model_module": "@jupyter-widgets/base",
            "_model_module_version": "1.2.0",
            "_model_name": "LayoutModel",
            "_view_count": null,
            "_view_module": "@jupyter-widgets/base",
            "_view_module_version": "1.2.0",
            "_view_name": "LayoutView",
            "align_content": null,
            "align_items": null,
            "align_self": null,
            "border": null,
            "bottom": null,
            "display": null,
            "flex": null,
            "flex_flow": null,
            "grid_area": null,
            "grid_auto_columns": null,
            "grid_auto_flow": null,
            "grid_auto_rows": null,
            "grid_column": null,
            "grid_gap": null,
            "grid_row": null,
            "grid_template_areas": null,
            "grid_template_columns": null,
            "grid_template_rows": null,
            "height": null,
            "justify_content": null,
            "justify_items": null,
            "left": null,
            "margin": null,
            "max_height": null,
            "max_width": null,
            "min_height": null,
            "min_width": null,
            "object_fit": null,
            "object_position": null,
            "order": null,
            "overflow": null,
            "overflow_x": null,
            "overflow_y": null,
            "padding": null,
            "right": null,
            "top": null,
            "visibility": null,
            "width": null
          }
        },
        "8d41e90bc1814c64845a633348bc51d6": {
          "model_module": "@jupyter-widgets/base",
          "model_name": "LayoutModel",
          "model_module_version": "1.2.0",
          "state": {
            "_model_module": "@jupyter-widgets/base",
            "_model_module_version": "1.2.0",
            "_model_name": "LayoutModel",
            "_view_count": null,
            "_view_module": "@jupyter-widgets/base",
            "_view_module_version": "1.2.0",
            "_view_name": "LayoutView",
            "align_content": null,
            "align_items": null,
            "align_self": null,
            "border": null,
            "bottom": null,
            "display": null,
            "flex": null,
            "flex_flow": null,
            "grid_area": null,
            "grid_auto_columns": null,
            "grid_auto_flow": null,
            "grid_auto_rows": null,
            "grid_column": null,
            "grid_gap": null,
            "grid_row": null,
            "grid_template_areas": null,
            "grid_template_columns": null,
            "grid_template_rows": null,
            "height": null,
            "justify_content": null,
            "justify_items": null,
            "left": null,
            "margin": null,
            "max_height": null,
            "max_width": null,
            "min_height": null,
            "min_width": null,
            "object_fit": null,
            "object_position": null,
            "order": null,
            "overflow": null,
            "overflow_x": null,
            "overflow_y": null,
            "padding": null,
            "right": null,
            "top": null,
            "visibility": null,
            "width": null
          }
        },
        "b3d2898c640045feb905187b9662a807": {
          "model_module": "@jupyter-widgets/controls",
          "model_name": "DescriptionStyleModel",
          "model_module_version": "1.5.0",
          "state": {
            "_model_module": "@jupyter-widgets/controls",
            "_model_module_version": "1.5.0",
            "_model_name": "DescriptionStyleModel",
            "_view_count": null,
            "_view_module": "@jupyter-widgets/base",
            "_view_module_version": "1.2.0",
            "_view_name": "StyleView",
            "description_width": ""
          }
        },
        "d490ed14aea24f2ebf59e6dc056e8906": {
          "model_module": "@jupyter-widgets/base",
          "model_name": "LayoutModel",
          "model_module_version": "1.2.0",
          "state": {
            "_model_module": "@jupyter-widgets/base",
            "_model_module_version": "1.2.0",
            "_model_name": "LayoutModel",
            "_view_count": null,
            "_view_module": "@jupyter-widgets/base",
            "_view_module_version": "1.2.0",
            "_view_name": "LayoutView",
            "align_content": null,
            "align_items": null,
            "align_self": null,
            "border": null,
            "bottom": null,
            "display": null,
            "flex": null,
            "flex_flow": null,
            "grid_area": null,
            "grid_auto_columns": null,
            "grid_auto_flow": null,
            "grid_auto_rows": null,
            "grid_column": null,
            "grid_gap": null,
            "grid_row": null,
            "grid_template_areas": null,
            "grid_template_columns": null,
            "grid_template_rows": null,
            "height": null,
            "justify_content": null,
            "justify_items": null,
            "left": null,
            "margin": null,
            "max_height": null,
            "max_width": null,
            "min_height": null,
            "min_width": null,
            "object_fit": null,
            "object_position": null,
            "order": null,
            "overflow": null,
            "overflow_x": null,
            "overflow_y": null,
            "padding": null,
            "right": null,
            "top": null,
            "visibility": null,
            "width": "20px"
          }
        },
        "52943392a7f24f40a515ce5d8dc8fb2f": {
          "model_module": "@jupyter-widgets/controls",
          "model_name": "ProgressStyleModel",
          "model_module_version": "1.5.0",
          "state": {
            "_model_module": "@jupyter-widgets/controls",
            "_model_module_version": "1.5.0",
            "_model_name": "ProgressStyleModel",
            "_view_count": null,
            "_view_module": "@jupyter-widgets/base",
            "_view_module_version": "1.2.0",
            "_view_name": "StyleView",
            "bar_color": null,
            "description_width": ""
          }
        },
        "d1f097bffa924b3c8cd15cc6042eaef9": {
          "model_module": "@jupyter-widgets/base",
          "model_name": "LayoutModel",
          "model_module_version": "1.2.0",
          "state": {
            "_model_module": "@jupyter-widgets/base",
            "_model_module_version": "1.2.0",
            "_model_name": "LayoutModel",
            "_view_count": null,
            "_view_module": "@jupyter-widgets/base",
            "_view_module_version": "1.2.0",
            "_view_name": "LayoutView",
            "align_content": null,
            "align_items": null,
            "align_self": null,
            "border": null,
            "bottom": null,
            "display": null,
            "flex": null,
            "flex_flow": null,
            "grid_area": null,
            "grid_auto_columns": null,
            "grid_auto_flow": null,
            "grid_auto_rows": null,
            "grid_column": null,
            "grid_gap": null,
            "grid_row": null,
            "grid_template_areas": null,
            "grid_template_columns": null,
            "grid_template_rows": null,
            "height": null,
            "justify_content": null,
            "justify_items": null,
            "left": null,
            "margin": null,
            "max_height": null,
            "max_width": null,
            "min_height": null,
            "min_width": null,
            "object_fit": null,
            "object_position": null,
            "order": null,
            "overflow": null,
            "overflow_x": null,
            "overflow_y": null,
            "padding": null,
            "right": null,
            "top": null,
            "visibility": null,
            "width": null
          }
        },
        "2a4e28a792bc441883257d1220c11a29": {
          "model_module": "@jupyter-widgets/controls",
          "model_name": "DescriptionStyleModel",
          "model_module_version": "1.5.0",
          "state": {
            "_model_module": "@jupyter-widgets/controls",
            "_model_module_version": "1.5.0",
            "_model_name": "DescriptionStyleModel",
            "_view_count": null,
            "_view_module": "@jupyter-widgets/base",
            "_view_module_version": "1.2.0",
            "_view_name": "StyleView",
            "description_width": ""
          }
        },
        "345806ac6b89462cb7798f73cad7db3b": {
          "model_module": "@jupyter-widgets/controls",
          "model_name": "HBoxModel",
          "model_module_version": "1.5.0",
          "state": {
            "_dom_classes": [],
            "_model_module": "@jupyter-widgets/controls",
            "_model_module_version": "1.5.0",
            "_model_name": "HBoxModel",
            "_view_count": null,
            "_view_module": "@jupyter-widgets/controls",
            "_view_module_version": "1.5.0",
            "_view_name": "HBoxView",
            "box_style": "",
            "children": [
              "IPY_MODEL_9077d775aca5492080a66e0c1a927d9c",
              "IPY_MODEL_0ca6841bdcfe4987ab81f57fa916bc30",
              "IPY_MODEL_d62a89e8595d4e5faabe3ea42f716e3b"
            ],
            "layout": "IPY_MODEL_7553cf657539402d9a86e4bfb4261d4d"
          }
        },
        "9077d775aca5492080a66e0c1a927d9c": {
          "model_module": "@jupyter-widgets/controls",
          "model_name": "HTMLModel",
          "model_module_version": "1.5.0",
          "state": {
            "_dom_classes": [],
            "_model_module": "@jupyter-widgets/controls",
            "_model_module_version": "1.5.0",
            "_model_name": "HTMLModel",
            "_view_count": null,
            "_view_module": "@jupyter-widgets/controls",
            "_view_module_version": "1.5.0",
            "_view_name": "HTMLView",
            "description": "",
            "description_tooltip": null,
            "layout": "IPY_MODEL_316900bcc9ff4b7294112e2dbe5b8b32",
            "placeholder": "​",
            "style": "IPY_MODEL_a30bc3281aa84891b6ee8c4fff0f5b47",
            "value": "Dl Size...: 100%"
          }
        },
        "0ca6841bdcfe4987ab81f57fa916bc30": {
          "model_module": "@jupyter-widgets/controls",
          "model_name": "FloatProgressModel",
          "model_module_version": "1.5.0",
          "state": {
            "_dom_classes": [],
            "_model_module": "@jupyter-widgets/controls",
            "_model_module_version": "1.5.0",
            "_model_name": "FloatProgressModel",
            "_view_count": null,
            "_view_module": "@jupyter-widgets/controls",
            "_view_module_version": "1.5.0",
            "_view_name": "ProgressView",
            "bar_style": "success",
            "description": "",
            "description_tooltip": null,
            "layout": "IPY_MODEL_0c3f10ffe7574f0d8f1141d49a8b51f7",
            "max": 1,
            "min": 0,
            "orientation": "horizontal",
            "style": "IPY_MODEL_f5354d24b951483f8a925b594645e1d7",
            "value": 1
          }
        },
        "d62a89e8595d4e5faabe3ea42f716e3b": {
          "model_module": "@jupyter-widgets/controls",
          "model_name": "HTMLModel",
          "model_module_version": "1.5.0",
          "state": {
            "_dom_classes": [],
            "_model_module": "@jupyter-widgets/controls",
            "_model_module_version": "1.5.0",
            "_model_name": "HTMLModel",
            "_view_count": null,
            "_view_module": "@jupyter-widgets/controls",
            "_view_module_version": "1.5.0",
            "_view_name": "HTMLView",
            "description": "",
            "description_tooltip": null,
            "layout": "IPY_MODEL_59e807589ae242369049c18b8d3018b6",
            "placeholder": "​",
            "style": "IPY_MODEL_f330fe68228541f6a6454916e0d7d62e",
            "value": " 535/535 [00:12&lt;00:00, 62.63 MiB/s]"
          }
        },
        "7553cf657539402d9a86e4bfb4261d4d": {
          "model_module": "@jupyter-widgets/base",
          "model_name": "LayoutModel",
          "model_module_version": "1.2.0",
          "state": {
            "_model_module": "@jupyter-widgets/base",
            "_model_module_version": "1.2.0",
            "_model_name": "LayoutModel",
            "_view_count": null,
            "_view_module": "@jupyter-widgets/base",
            "_view_module_version": "1.2.0",
            "_view_name": "LayoutView",
            "align_content": null,
            "align_items": null,
            "align_self": null,
            "border": null,
            "bottom": null,
            "display": null,
            "flex": null,
            "flex_flow": null,
            "grid_area": null,
            "grid_auto_columns": null,
            "grid_auto_flow": null,
            "grid_auto_rows": null,
            "grid_column": null,
            "grid_gap": null,
            "grid_row": null,
            "grid_template_areas": null,
            "grid_template_columns": null,
            "grid_template_rows": null,
            "height": null,
            "justify_content": null,
            "justify_items": null,
            "left": null,
            "margin": null,
            "max_height": null,
            "max_width": null,
            "min_height": null,
            "min_width": null,
            "object_fit": null,
            "object_position": null,
            "order": null,
            "overflow": null,
            "overflow_x": null,
            "overflow_y": null,
            "padding": null,
            "right": null,
            "top": null,
            "visibility": null,
            "width": null
          }
        },
        "316900bcc9ff4b7294112e2dbe5b8b32": {
          "model_module": "@jupyter-widgets/base",
          "model_name": "LayoutModel",
          "model_module_version": "1.2.0",
          "state": {
            "_model_module": "@jupyter-widgets/base",
            "_model_module_version": "1.2.0",
            "_model_name": "LayoutModel",
            "_view_count": null,
            "_view_module": "@jupyter-widgets/base",
            "_view_module_version": "1.2.0",
            "_view_name": "LayoutView",
            "align_content": null,
            "align_items": null,
            "align_self": null,
            "border": null,
            "bottom": null,
            "display": null,
            "flex": null,
            "flex_flow": null,
            "grid_area": null,
            "grid_auto_columns": null,
            "grid_auto_flow": null,
            "grid_auto_rows": null,
            "grid_column": null,
            "grid_gap": null,
            "grid_row": null,
            "grid_template_areas": null,
            "grid_template_columns": null,
            "grid_template_rows": null,
            "height": null,
            "justify_content": null,
            "justify_items": null,
            "left": null,
            "margin": null,
            "max_height": null,
            "max_width": null,
            "min_height": null,
            "min_width": null,
            "object_fit": null,
            "object_position": null,
            "order": null,
            "overflow": null,
            "overflow_x": null,
            "overflow_y": null,
            "padding": null,
            "right": null,
            "top": null,
            "visibility": null,
            "width": null
          }
        },
        "a30bc3281aa84891b6ee8c4fff0f5b47": {
          "model_module": "@jupyter-widgets/controls",
          "model_name": "DescriptionStyleModel",
          "model_module_version": "1.5.0",
          "state": {
            "_model_module": "@jupyter-widgets/controls",
            "_model_module_version": "1.5.0",
            "_model_name": "DescriptionStyleModel",
            "_view_count": null,
            "_view_module": "@jupyter-widgets/base",
            "_view_module_version": "1.2.0",
            "_view_name": "StyleView",
            "description_width": ""
          }
        },
        "0c3f10ffe7574f0d8f1141d49a8b51f7": {
          "model_module": "@jupyter-widgets/base",
          "model_name": "LayoutModel",
          "model_module_version": "1.2.0",
          "state": {
            "_model_module": "@jupyter-widgets/base",
            "_model_module_version": "1.2.0",
            "_model_name": "LayoutModel",
            "_view_count": null,
            "_view_module": "@jupyter-widgets/base",
            "_view_module_version": "1.2.0",
            "_view_name": "LayoutView",
            "align_content": null,
            "align_items": null,
            "align_self": null,
            "border": null,
            "bottom": null,
            "display": null,
            "flex": null,
            "flex_flow": null,
            "grid_area": null,
            "grid_auto_columns": null,
            "grid_auto_flow": null,
            "grid_auto_rows": null,
            "grid_column": null,
            "grid_gap": null,
            "grid_row": null,
            "grid_template_areas": null,
            "grid_template_columns": null,
            "grid_template_rows": null,
            "height": null,
            "justify_content": null,
            "justify_items": null,
            "left": null,
            "margin": null,
            "max_height": null,
            "max_width": null,
            "min_height": null,
            "min_width": null,
            "object_fit": null,
            "object_position": null,
            "order": null,
            "overflow": null,
            "overflow_x": null,
            "overflow_y": null,
            "padding": null,
            "right": null,
            "top": null,
            "visibility": null,
            "width": "20px"
          }
        },
        "f5354d24b951483f8a925b594645e1d7": {
          "model_module": "@jupyter-widgets/controls",
          "model_name": "ProgressStyleModel",
          "model_module_version": "1.5.0",
          "state": {
            "_model_module": "@jupyter-widgets/controls",
            "_model_module_version": "1.5.0",
            "_model_name": "ProgressStyleModel",
            "_view_count": null,
            "_view_module": "@jupyter-widgets/base",
            "_view_module_version": "1.2.0",
            "_view_name": "StyleView",
            "bar_color": null,
            "description_width": ""
          }
        },
        "59e807589ae242369049c18b8d3018b6": {
          "model_module": "@jupyter-widgets/base",
          "model_name": "LayoutModel",
          "model_module_version": "1.2.0",
          "state": {
            "_model_module": "@jupyter-widgets/base",
            "_model_module_version": "1.2.0",
            "_model_name": "LayoutModel",
            "_view_count": null,
            "_view_module": "@jupyter-widgets/base",
            "_view_module_version": "1.2.0",
            "_view_name": "LayoutView",
            "align_content": null,
            "align_items": null,
            "align_self": null,
            "border": null,
            "bottom": null,
            "display": null,
            "flex": null,
            "flex_flow": null,
            "grid_area": null,
            "grid_auto_columns": null,
            "grid_auto_flow": null,
            "grid_auto_rows": null,
            "grid_column": null,
            "grid_gap": null,
            "grid_row": null,
            "grid_template_areas": null,
            "grid_template_columns": null,
            "grid_template_rows": null,
            "height": null,
            "justify_content": null,
            "justify_items": null,
            "left": null,
            "margin": null,
            "max_height": null,
            "max_width": null,
            "min_height": null,
            "min_width": null,
            "object_fit": null,
            "object_position": null,
            "order": null,
            "overflow": null,
            "overflow_x": null,
            "overflow_y": null,
            "padding": null,
            "right": null,
            "top": null,
            "visibility": null,
            "width": null
          }
        },
        "f330fe68228541f6a6454916e0d7d62e": {
          "model_module": "@jupyter-widgets/controls",
          "model_name": "DescriptionStyleModel",
          "model_module_version": "1.5.0",
          "state": {
            "_model_module": "@jupyter-widgets/controls",
            "_model_module_version": "1.5.0",
            "_model_name": "DescriptionStyleModel",
            "_view_count": null,
            "_view_module": "@jupyter-widgets/base",
            "_view_module_version": "1.2.0",
            "_view_name": "StyleView",
            "description_width": ""
          }
        },
        "3680ab0a599646f6b0693faa678db005": {
          "model_module": "@jupyter-widgets/controls",
          "model_name": "HBoxModel",
          "model_module_version": "1.5.0",
          "state": {
            "_dom_classes": [],
            "_model_module": "@jupyter-widgets/controls",
            "_model_module_version": "1.5.0",
            "_model_name": "HBoxModel",
            "_view_count": null,
            "_view_module": "@jupyter-widgets/controls",
            "_view_module_version": "1.5.0",
            "_view_name": "HBoxView",
            "box_style": "",
            "children": [
              "IPY_MODEL_210c04f02c36409b8c1153b496312317",
              "IPY_MODEL_3f6b559869634277bbd56a8f72d5e1de",
              "IPY_MODEL_484b6c26f1124ad0922b356f700dc87f"
            ],
            "layout": "IPY_MODEL_0312a6f0da6c45a0ad646fbfc76cc2da"
          }
        },
        "210c04f02c36409b8c1153b496312317": {
          "model_module": "@jupyter-widgets/controls",
          "model_name": "HTMLModel",
          "model_module_version": "1.5.0",
          "state": {
            "_dom_classes": [],
            "_model_module": "@jupyter-widgets/controls",
            "_model_module_version": "1.5.0",
            "_model_name": "HTMLModel",
            "_view_count": null,
            "_view_module": "@jupyter-widgets/controls",
            "_view_module_version": "1.5.0",
            "_view_name": "HTMLView",
            "description": "",
            "description_tooltip": null,
            "layout": "IPY_MODEL_34fee629891b448d8ad76ff05569ef78",
            "placeholder": "​",
            "style": "IPY_MODEL_768cfd7e98f246b0b89d74850c847b03",
            "value": "Extraction completed...: 100%"
          }
        },
        "3f6b559869634277bbd56a8f72d5e1de": {
          "model_module": "@jupyter-widgets/controls",
          "model_name": "FloatProgressModel",
          "model_module_version": "1.5.0",
          "state": {
            "_dom_classes": [],
            "_model_module": "@jupyter-widgets/controls",
            "_model_module_version": "1.5.0",
            "_model_name": "FloatProgressModel",
            "_view_count": null,
            "_view_module": "@jupyter-widgets/controls",
            "_view_module_version": "1.5.0",
            "_view_name": "ProgressView",
            "bar_style": "success",
            "description": "",
            "description_tooltip": null,
            "layout": "IPY_MODEL_1e4b41319bb04edcac9ee2d61ad85471",
            "max": 1,
            "min": 0,
            "orientation": "horizontal",
            "style": "IPY_MODEL_e78907871fea4b7f8dee390f4669bc30",
            "value": 1
          }
        },
        "484b6c26f1124ad0922b356f700dc87f": {
          "model_module": "@jupyter-widgets/controls",
          "model_name": "HTMLModel",
          "model_module_version": "1.5.0",
          "state": {
            "_dom_classes": [],
            "_model_module": "@jupyter-widgets/controls",
            "_model_module_version": "1.5.0",
            "_model_name": "HTMLModel",
            "_view_count": null,
            "_view_module": "@jupyter-widgets/controls",
            "_view_module_version": "1.5.0",
            "_view_name": "HTMLView",
            "description": "",
            "description_tooltip": null,
            "layout": "IPY_MODEL_85dec930d53548328917f5e78cc26d6f",
            "placeholder": "​",
            "style": "IPY_MODEL_173ac624c8db4670b4b293896c32feea",
            "value": " 30/30 [00:12&lt;00:00, 11.96s/ file]"
          }
        },
        "0312a6f0da6c45a0ad646fbfc76cc2da": {
          "model_module": "@jupyter-widgets/base",
          "model_name": "LayoutModel",
          "model_module_version": "1.2.0",
          "state": {
            "_model_module": "@jupyter-widgets/base",
            "_model_module_version": "1.2.0",
            "_model_name": "LayoutModel",
            "_view_count": null,
            "_view_module": "@jupyter-widgets/base",
            "_view_module_version": "1.2.0",
            "_view_name": "LayoutView",
            "align_content": null,
            "align_items": null,
            "align_self": null,
            "border": null,
            "bottom": null,
            "display": null,
            "flex": null,
            "flex_flow": null,
            "grid_area": null,
            "grid_auto_columns": null,
            "grid_auto_flow": null,
            "grid_auto_rows": null,
            "grid_column": null,
            "grid_gap": null,
            "grid_row": null,
            "grid_template_areas": null,
            "grid_template_columns": null,
            "grid_template_rows": null,
            "height": null,
            "justify_content": null,
            "justify_items": null,
            "left": null,
            "margin": null,
            "max_height": null,
            "max_width": null,
            "min_height": null,
            "min_width": null,
            "object_fit": null,
            "object_position": null,
            "order": null,
            "overflow": null,
            "overflow_x": null,
            "overflow_y": null,
            "padding": null,
            "right": null,
            "top": null,
            "visibility": null,
            "width": null
          }
        },
        "34fee629891b448d8ad76ff05569ef78": {
          "model_module": "@jupyter-widgets/base",
          "model_name": "LayoutModel",
          "model_module_version": "1.2.0",
          "state": {
            "_model_module": "@jupyter-widgets/base",
            "_model_module_version": "1.2.0",
            "_model_name": "LayoutModel",
            "_view_count": null,
            "_view_module": "@jupyter-widgets/base",
            "_view_module_version": "1.2.0",
            "_view_name": "LayoutView",
            "align_content": null,
            "align_items": null,
            "align_self": null,
            "border": null,
            "bottom": null,
            "display": null,
            "flex": null,
            "flex_flow": null,
            "grid_area": null,
            "grid_auto_columns": null,
            "grid_auto_flow": null,
            "grid_auto_rows": null,
            "grid_column": null,
            "grid_gap": null,
            "grid_row": null,
            "grid_template_areas": null,
            "grid_template_columns": null,
            "grid_template_rows": null,
            "height": null,
            "justify_content": null,
            "justify_items": null,
            "left": null,
            "margin": null,
            "max_height": null,
            "max_width": null,
            "min_height": null,
            "min_width": null,
            "object_fit": null,
            "object_position": null,
            "order": null,
            "overflow": null,
            "overflow_x": null,
            "overflow_y": null,
            "padding": null,
            "right": null,
            "top": null,
            "visibility": null,
            "width": null
          }
        },
        "768cfd7e98f246b0b89d74850c847b03": {
          "model_module": "@jupyter-widgets/controls",
          "model_name": "DescriptionStyleModel",
          "model_module_version": "1.5.0",
          "state": {
            "_model_module": "@jupyter-widgets/controls",
            "_model_module_version": "1.5.0",
            "_model_name": "DescriptionStyleModel",
            "_view_count": null,
            "_view_module": "@jupyter-widgets/base",
            "_view_module_version": "1.2.0",
            "_view_name": "StyleView",
            "description_width": ""
          }
        },
        "1e4b41319bb04edcac9ee2d61ad85471": {
          "model_module": "@jupyter-widgets/base",
          "model_name": "LayoutModel",
          "model_module_version": "1.2.0",
          "state": {
            "_model_module": "@jupyter-widgets/base",
            "_model_module_version": "1.2.0",
            "_model_name": "LayoutModel",
            "_view_count": null,
            "_view_module": "@jupyter-widgets/base",
            "_view_module_version": "1.2.0",
            "_view_name": "LayoutView",
            "align_content": null,
            "align_items": null,
            "align_self": null,
            "border": null,
            "bottom": null,
            "display": null,
            "flex": null,
            "flex_flow": null,
            "grid_area": null,
            "grid_auto_columns": null,
            "grid_auto_flow": null,
            "grid_auto_rows": null,
            "grid_column": null,
            "grid_gap": null,
            "grid_row": null,
            "grid_template_areas": null,
            "grid_template_columns": null,
            "grid_template_rows": null,
            "height": null,
            "justify_content": null,
            "justify_items": null,
            "left": null,
            "margin": null,
            "max_height": null,
            "max_width": null,
            "min_height": null,
            "min_width": null,
            "object_fit": null,
            "object_position": null,
            "order": null,
            "overflow": null,
            "overflow_x": null,
            "overflow_y": null,
            "padding": null,
            "right": null,
            "top": null,
            "visibility": null,
            "width": "20px"
          }
        },
        "e78907871fea4b7f8dee390f4669bc30": {
          "model_module": "@jupyter-widgets/controls",
          "model_name": "ProgressStyleModel",
          "model_module_version": "1.5.0",
          "state": {
            "_model_module": "@jupyter-widgets/controls",
            "_model_module_version": "1.5.0",
            "_model_name": "ProgressStyleModel",
            "_view_count": null,
            "_view_module": "@jupyter-widgets/base",
            "_view_module_version": "1.2.0",
            "_view_name": "StyleView",
            "bar_color": null,
            "description_width": ""
          }
        },
        "85dec930d53548328917f5e78cc26d6f": {
          "model_module": "@jupyter-widgets/base",
          "model_name": "LayoutModel",
          "model_module_version": "1.2.0",
          "state": {
            "_model_module": "@jupyter-widgets/base",
            "_model_module_version": "1.2.0",
            "_model_name": "LayoutModel",
            "_view_count": null,
            "_view_module": "@jupyter-widgets/base",
            "_view_module_version": "1.2.0",
            "_view_name": "LayoutView",
            "align_content": null,
            "align_items": null,
            "align_self": null,
            "border": null,
            "bottom": null,
            "display": null,
            "flex": null,
            "flex_flow": null,
            "grid_area": null,
            "grid_auto_columns": null,
            "grid_auto_flow": null,
            "grid_auto_rows": null,
            "grid_column": null,
            "grid_gap": null,
            "grid_row": null,
            "grid_template_areas": null,
            "grid_template_columns": null,
            "grid_template_rows": null,
            "height": null,
            "justify_content": null,
            "justify_items": null,
            "left": null,
            "margin": null,
            "max_height": null,
            "max_width": null,
            "min_height": null,
            "min_width": null,
            "object_fit": null,
            "object_position": null,
            "order": null,
            "overflow": null,
            "overflow_x": null,
            "overflow_y": null,
            "padding": null,
            "right": null,
            "top": null,
            "visibility": null,
            "width": null
          }
        },
        "173ac624c8db4670b4b293896c32feea": {
          "model_module": "@jupyter-widgets/controls",
          "model_name": "DescriptionStyleModel",
          "model_module_version": "1.5.0",
          "state": {
            "_model_module": "@jupyter-widgets/controls",
            "_model_module_version": "1.5.0",
            "_model_name": "DescriptionStyleModel",
            "_view_count": null,
            "_view_module": "@jupyter-widgets/base",
            "_view_module_version": "1.2.0",
            "_view_name": "StyleView",
            "description_width": ""
          }
        },
        "dde5800e59e34d05baae91f47cd3a800": {
          "model_module": "@jupyter-widgets/controls",
          "model_name": "HBoxModel",
          "model_module_version": "1.5.0",
          "state": {
            "_dom_classes": [],
            "_model_module": "@jupyter-widgets/controls",
            "_model_module_version": "1.5.0",
            "_model_name": "HBoxModel",
            "_view_count": null,
            "_view_module": "@jupyter-widgets/controls",
            "_view_module_version": "1.5.0",
            "_view_name": "HBoxView",
            "box_style": "",
            "children": [
              "IPY_MODEL_d8615e2203af4f07a9273828a48d61c3",
              "IPY_MODEL_9641fd3212b743e18118ffe253039932",
              "IPY_MODEL_5bf2b0f9b33240e9bc09f2ada431cc1d"
            ],
            "layout": "IPY_MODEL_5f76a0516eda4ef19987228a13911ba0"
          }
        },
        "d8615e2203af4f07a9273828a48d61c3": {
          "model_module": "@jupyter-widgets/controls",
          "model_name": "HTMLModel",
          "model_module_version": "1.5.0",
          "state": {
            "_dom_classes": [],
            "_model_module": "@jupyter-widgets/controls",
            "_model_module_version": "1.5.0",
            "_model_name": "HTMLModel",
            "_view_count": null,
            "_view_module": "@jupyter-widgets/controls",
            "_view_module_version": "1.5.0",
            "_view_name": "HTMLView",
            "description": "",
            "description_tooltip": null,
            "layout": "IPY_MODEL_f4a02492cffc4ebbaa5a0787c1c3b8a8",
            "placeholder": "​",
            "style": "IPY_MODEL_179e5b2429684350bf8495be092682ce",
            "value": "Extraction completed...: 100%"
          }
        },
        "9641fd3212b743e18118ffe253039932": {
          "model_module": "@jupyter-widgets/controls",
          "model_name": "FloatProgressModel",
          "model_module_version": "1.5.0",
          "state": {
            "_dom_classes": [],
            "_model_module": "@jupyter-widgets/controls",
            "_model_module_version": "1.5.0",
            "_model_name": "FloatProgressModel",
            "_view_count": null,
            "_view_module": "@jupyter-widgets/controls",
            "_view_module_version": "1.5.0",
            "_view_name": "ProgressView",
            "bar_style": "success",
            "description": "",
            "description_tooltip": null,
            "layout": "IPY_MODEL_f3905a6ee52d43ada82b040fc3c7b512",
            "max": 1,
            "min": 0,
            "orientation": "horizontal",
            "style": "IPY_MODEL_9a09a6aed88f4fd0a6c783fefcb05daf",
            "value": 1
          }
        },
        "5bf2b0f9b33240e9bc09f2ada431cc1d": {
          "model_module": "@jupyter-widgets/controls",
          "model_name": "HTMLModel",
          "model_module_version": "1.5.0",
          "state": {
            "_dom_classes": [],
            "_model_module": "@jupyter-widgets/controls",
            "_model_module_version": "1.5.0",
            "_model_name": "HTMLModel",
            "_view_count": null,
            "_view_module": "@jupyter-widgets/controls",
            "_view_module_version": "1.5.0",
            "_view_name": "HTMLView",
            "description": "",
            "description_tooltip": null,
            "layout": "IPY_MODEL_e1623816677349e9ab7e4ead2ea4f93f",
            "placeholder": "​",
            "style": "IPY_MODEL_31ee796ce2944749b46227160716d8f0",
            "value": " 4/4 [00:01&lt;00:00,  3.73 file/s]"
          }
        },
        "5f76a0516eda4ef19987228a13911ba0": {
          "model_module": "@jupyter-widgets/base",
          "model_name": "LayoutModel",
          "model_module_version": "1.2.0",
          "state": {
            "_model_module": "@jupyter-widgets/base",
            "_model_module_version": "1.2.0",
            "_model_name": "LayoutModel",
            "_view_count": null,
            "_view_module": "@jupyter-widgets/base",
            "_view_module_version": "1.2.0",
            "_view_name": "LayoutView",
            "align_content": null,
            "align_items": null,
            "align_self": null,
            "border": null,
            "bottom": null,
            "display": null,
            "flex": null,
            "flex_flow": null,
            "grid_area": null,
            "grid_auto_columns": null,
            "grid_auto_flow": null,
            "grid_auto_rows": null,
            "grid_column": null,
            "grid_gap": null,
            "grid_row": null,
            "grid_template_areas": null,
            "grid_template_columns": null,
            "grid_template_rows": null,
            "height": null,
            "justify_content": null,
            "justify_items": null,
            "left": null,
            "margin": null,
            "max_height": null,
            "max_width": null,
            "min_height": null,
            "min_width": null,
            "object_fit": null,
            "object_position": null,
            "order": null,
            "overflow": null,
            "overflow_x": null,
            "overflow_y": null,
            "padding": null,
            "right": null,
            "top": null,
            "visibility": null,
            "width": null
          }
        },
        "f4a02492cffc4ebbaa5a0787c1c3b8a8": {
          "model_module": "@jupyter-widgets/base",
          "model_name": "LayoutModel",
          "model_module_version": "1.2.0",
          "state": {
            "_model_module": "@jupyter-widgets/base",
            "_model_module_version": "1.2.0",
            "_model_name": "LayoutModel",
            "_view_count": null,
            "_view_module": "@jupyter-widgets/base",
            "_view_module_version": "1.2.0",
            "_view_name": "LayoutView",
            "align_content": null,
            "align_items": null,
            "align_self": null,
            "border": null,
            "bottom": null,
            "display": null,
            "flex": null,
            "flex_flow": null,
            "grid_area": null,
            "grid_auto_columns": null,
            "grid_auto_flow": null,
            "grid_auto_rows": null,
            "grid_column": null,
            "grid_gap": null,
            "grid_row": null,
            "grid_template_areas": null,
            "grid_template_columns": null,
            "grid_template_rows": null,
            "height": null,
            "justify_content": null,
            "justify_items": null,
            "left": null,
            "margin": null,
            "max_height": null,
            "max_width": null,
            "min_height": null,
            "min_width": null,
            "object_fit": null,
            "object_position": null,
            "order": null,
            "overflow": null,
            "overflow_x": null,
            "overflow_y": null,
            "padding": null,
            "right": null,
            "top": null,
            "visibility": null,
            "width": null
          }
        },
        "179e5b2429684350bf8495be092682ce": {
          "model_module": "@jupyter-widgets/controls",
          "model_name": "DescriptionStyleModel",
          "model_module_version": "1.5.0",
          "state": {
            "_model_module": "@jupyter-widgets/controls",
            "_model_module_version": "1.5.0",
            "_model_name": "DescriptionStyleModel",
            "_view_count": null,
            "_view_module": "@jupyter-widgets/base",
            "_view_module_version": "1.2.0",
            "_view_name": "StyleView",
            "description_width": ""
          }
        },
        "f3905a6ee52d43ada82b040fc3c7b512": {
          "model_module": "@jupyter-widgets/base",
          "model_name": "LayoutModel",
          "model_module_version": "1.2.0",
          "state": {
            "_model_module": "@jupyter-widgets/base",
            "_model_module_version": "1.2.0",
            "_model_name": "LayoutModel",
            "_view_count": null,
            "_view_module": "@jupyter-widgets/base",
            "_view_module_version": "1.2.0",
            "_view_name": "LayoutView",
            "align_content": null,
            "align_items": null,
            "align_self": null,
            "border": null,
            "bottom": null,
            "display": null,
            "flex": null,
            "flex_flow": null,
            "grid_area": null,
            "grid_auto_columns": null,
            "grid_auto_flow": null,
            "grid_auto_rows": null,
            "grid_column": null,
            "grid_gap": null,
            "grid_row": null,
            "grid_template_areas": null,
            "grid_template_columns": null,
            "grid_template_rows": null,
            "height": null,
            "justify_content": null,
            "justify_items": null,
            "left": null,
            "margin": null,
            "max_height": null,
            "max_width": null,
            "min_height": null,
            "min_width": null,
            "object_fit": null,
            "object_position": null,
            "order": null,
            "overflow": null,
            "overflow_x": null,
            "overflow_y": null,
            "padding": null,
            "right": null,
            "top": null,
            "visibility": null,
            "width": "20px"
          }
        },
        "9a09a6aed88f4fd0a6c783fefcb05daf": {
          "model_module": "@jupyter-widgets/controls",
          "model_name": "ProgressStyleModel",
          "model_module_version": "1.5.0",
          "state": {
            "_model_module": "@jupyter-widgets/controls",
            "_model_module_version": "1.5.0",
            "_model_name": "ProgressStyleModel",
            "_view_count": null,
            "_view_module": "@jupyter-widgets/base",
            "_view_module_version": "1.2.0",
            "_view_name": "StyleView",
            "bar_color": null,
            "description_width": ""
          }
        },
        "e1623816677349e9ab7e4ead2ea4f93f": {
          "model_module": "@jupyter-widgets/base",
          "model_name": "LayoutModel",
          "model_module_version": "1.2.0",
          "state": {
            "_model_module": "@jupyter-widgets/base",
            "_model_module_version": "1.2.0",
            "_model_name": "LayoutModel",
            "_view_count": null,
            "_view_module": "@jupyter-widgets/base",
            "_view_module_version": "1.2.0",
            "_view_name": "LayoutView",
            "align_content": null,
            "align_items": null,
            "align_self": null,
            "border": null,
            "bottom": null,
            "display": null,
            "flex": null,
            "flex_flow": null,
            "grid_area": null,
            "grid_auto_columns": null,
            "grid_auto_flow": null,
            "grid_auto_rows": null,
            "grid_column": null,
            "grid_gap": null,
            "grid_row": null,
            "grid_template_areas": null,
            "grid_template_columns": null,
            "grid_template_rows": null,
            "height": null,
            "justify_content": null,
            "justify_items": null,
            "left": null,
            "margin": null,
            "max_height": null,
            "max_width": null,
            "min_height": null,
            "min_width": null,
            "object_fit": null,
            "object_position": null,
            "order": null,
            "overflow": null,
            "overflow_x": null,
            "overflow_y": null,
            "padding": null,
            "right": null,
            "top": null,
            "visibility": null,
            "width": null
          }
        },
        "31ee796ce2944749b46227160716d8f0": {
          "model_module": "@jupyter-widgets/controls",
          "model_name": "DescriptionStyleModel",
          "model_module_version": "1.5.0",
          "state": {
            "_model_module": "@jupyter-widgets/controls",
            "_model_module_version": "1.5.0",
            "_model_name": "DescriptionStyleModel",
            "_view_count": null,
            "_view_module": "@jupyter-widgets/base",
            "_view_module_version": "1.2.0",
            "_view_name": "StyleView",
            "description_width": ""
          }
        },
        "5b6cc97f62334c01a3b4f55bb1f72492": {
          "model_module": "@jupyter-widgets/controls",
          "model_name": "HBoxModel",
          "model_module_version": "1.5.0",
          "state": {
            "_dom_classes": [],
            "_model_module": "@jupyter-widgets/controls",
            "_model_module_version": "1.5.0",
            "_model_name": "HBoxModel",
            "_view_count": null,
            "_view_module": "@jupyter-widgets/controls",
            "_view_module_version": "1.5.0",
            "_view_name": "HBoxView",
            "box_style": "",
            "children": [
              "IPY_MODEL_7e33db2b676449cbb458ed2cbdde132c",
              "IPY_MODEL_bf232568465a4aa0aa2096944eea0171",
              "IPY_MODEL_3b48fbe6df1d4447ac0faae76fb6d296"
            ],
            "layout": "IPY_MODEL_4298924a819546c9a8330b66f453134f"
          }
        },
        "7e33db2b676449cbb458ed2cbdde132c": {
          "model_module": "@jupyter-widgets/controls",
          "model_name": "HTMLModel",
          "model_module_version": "1.5.0",
          "state": {
            "_dom_classes": [],
            "_model_module": "@jupyter-widgets/controls",
            "_model_module_version": "1.5.0",
            "_model_name": "HTMLModel",
            "_view_count": null,
            "_view_module": "@jupyter-widgets/controls",
            "_view_module_version": "1.5.0",
            "_view_name": "HTMLView",
            "description": "",
            "description_tooltip": null,
            "layout": "IPY_MODEL_68197d0ea9c64d079d39c4e1f99ba245",
            "placeholder": "​",
            "style": "IPY_MODEL_e8528201d875473b92bd3e58a6cc8cc6",
            "value": "Generating splits...: 100%"
          }
        },
        "bf232568465a4aa0aa2096944eea0171": {
          "model_module": "@jupyter-widgets/controls",
          "model_name": "FloatProgressModel",
          "model_module_version": "1.5.0",
          "state": {
            "_dom_classes": [],
            "_model_module": "@jupyter-widgets/controls",
            "_model_module_version": "1.5.0",
            "_model_name": "FloatProgressModel",
            "_view_count": null,
            "_view_module": "@jupyter-widgets/controls",
            "_view_module_version": "1.5.0",
            "_view_name": "ProgressView",
            "bar_style": "",
            "description": "",
            "description_tooltip": null,
            "layout": "IPY_MODEL_d124b75c6adb4b23914fef9dff0207af",
            "max": 2,
            "min": 0,
            "orientation": "horizontal",
            "style": "IPY_MODEL_53a11714a4924a92b30b10d26107486a",
            "value": 2
          }
        },
        "3b48fbe6df1d4447ac0faae76fb6d296": {
          "model_module": "@jupyter-widgets/controls",
          "model_name": "HTMLModel",
          "model_module_version": "1.5.0",
          "state": {
            "_dom_classes": [],
            "_model_module": "@jupyter-widgets/controls",
            "_model_module_version": "1.5.0",
            "_model_name": "HTMLModel",
            "_view_count": null,
            "_view_module": "@jupyter-widgets/controls",
            "_view_module_version": "1.5.0",
            "_view_name": "HTMLView",
            "description": "",
            "description_tooltip": null,
            "layout": "IPY_MODEL_dd9f687541cb4c95be910a66d1f27d4e",
            "placeholder": "​",
            "style": "IPY_MODEL_c70cb391f62347dfa67bb49599ac1df9",
            "value": " 2/2 [00:41&lt;00:00, 17.95s/ splits]"
          }
        },
        "4298924a819546c9a8330b66f453134f": {
          "model_module": "@jupyter-widgets/base",
          "model_name": "LayoutModel",
          "model_module_version": "1.2.0",
          "state": {
            "_model_module": "@jupyter-widgets/base",
            "_model_module_version": "1.2.0",
            "_model_name": "LayoutModel",
            "_view_count": null,
            "_view_module": "@jupyter-widgets/base",
            "_view_module_version": "1.2.0",
            "_view_name": "LayoutView",
            "align_content": null,
            "align_items": null,
            "align_self": null,
            "border": null,
            "bottom": null,
            "display": null,
            "flex": null,
            "flex_flow": null,
            "grid_area": null,
            "grid_auto_columns": null,
            "grid_auto_flow": null,
            "grid_auto_rows": null,
            "grid_column": null,
            "grid_gap": null,
            "grid_row": null,
            "grid_template_areas": null,
            "grid_template_columns": null,
            "grid_template_rows": null,
            "height": null,
            "justify_content": null,
            "justify_items": null,
            "left": null,
            "margin": null,
            "max_height": null,
            "max_width": null,
            "min_height": null,
            "min_width": null,
            "object_fit": null,
            "object_position": null,
            "order": null,
            "overflow": null,
            "overflow_x": null,
            "overflow_y": null,
            "padding": null,
            "right": null,
            "top": null,
            "visibility": "hidden",
            "width": null
          }
        },
        "68197d0ea9c64d079d39c4e1f99ba245": {
          "model_module": "@jupyter-widgets/base",
          "model_name": "LayoutModel",
          "model_module_version": "1.2.0",
          "state": {
            "_model_module": "@jupyter-widgets/base",
            "_model_module_version": "1.2.0",
            "_model_name": "LayoutModel",
            "_view_count": null,
            "_view_module": "@jupyter-widgets/base",
            "_view_module_version": "1.2.0",
            "_view_name": "LayoutView",
            "align_content": null,
            "align_items": null,
            "align_self": null,
            "border": null,
            "bottom": null,
            "display": null,
            "flex": null,
            "flex_flow": null,
            "grid_area": null,
            "grid_auto_columns": null,
            "grid_auto_flow": null,
            "grid_auto_rows": null,
            "grid_column": null,
            "grid_gap": null,
            "grid_row": null,
            "grid_template_areas": null,
            "grid_template_columns": null,
            "grid_template_rows": null,
            "height": null,
            "justify_content": null,
            "justify_items": null,
            "left": null,
            "margin": null,
            "max_height": null,
            "max_width": null,
            "min_height": null,
            "min_width": null,
            "object_fit": null,
            "object_position": null,
            "order": null,
            "overflow": null,
            "overflow_x": null,
            "overflow_y": null,
            "padding": null,
            "right": null,
            "top": null,
            "visibility": null,
            "width": null
          }
        },
        "e8528201d875473b92bd3e58a6cc8cc6": {
          "model_module": "@jupyter-widgets/controls",
          "model_name": "DescriptionStyleModel",
          "model_module_version": "1.5.0",
          "state": {
            "_model_module": "@jupyter-widgets/controls",
            "_model_module_version": "1.5.0",
            "_model_name": "DescriptionStyleModel",
            "_view_count": null,
            "_view_module": "@jupyter-widgets/base",
            "_view_module_version": "1.2.0",
            "_view_name": "StyleView",
            "description_width": ""
          }
        },
        "d124b75c6adb4b23914fef9dff0207af": {
          "model_module": "@jupyter-widgets/base",
          "model_name": "LayoutModel",
          "model_module_version": "1.2.0",
          "state": {
            "_model_module": "@jupyter-widgets/base",
            "_model_module_version": "1.2.0",
            "_model_name": "LayoutModel",
            "_view_count": null,
            "_view_module": "@jupyter-widgets/base",
            "_view_module_version": "1.2.0",
            "_view_name": "LayoutView",
            "align_content": null,
            "align_items": null,
            "align_self": null,
            "border": null,
            "bottom": null,
            "display": null,
            "flex": null,
            "flex_flow": null,
            "grid_area": null,
            "grid_auto_columns": null,
            "grid_auto_flow": null,
            "grid_auto_rows": null,
            "grid_column": null,
            "grid_gap": null,
            "grid_row": null,
            "grid_template_areas": null,
            "grid_template_columns": null,
            "grid_template_rows": null,
            "height": null,
            "justify_content": null,
            "justify_items": null,
            "left": null,
            "margin": null,
            "max_height": null,
            "max_width": null,
            "min_height": null,
            "min_width": null,
            "object_fit": null,
            "object_position": null,
            "order": null,
            "overflow": null,
            "overflow_x": null,
            "overflow_y": null,
            "padding": null,
            "right": null,
            "top": null,
            "visibility": null,
            "width": null
          }
        },
        "53a11714a4924a92b30b10d26107486a": {
          "model_module": "@jupyter-widgets/controls",
          "model_name": "ProgressStyleModel",
          "model_module_version": "1.5.0",
          "state": {
            "_model_module": "@jupyter-widgets/controls",
            "_model_module_version": "1.5.0",
            "_model_name": "ProgressStyleModel",
            "_view_count": null,
            "_view_module": "@jupyter-widgets/base",
            "_view_module_version": "1.2.0",
            "_view_name": "StyleView",
            "bar_color": null,
            "description_width": ""
          }
        },
        "dd9f687541cb4c95be910a66d1f27d4e": {
          "model_module": "@jupyter-widgets/base",
          "model_name": "LayoutModel",
          "model_module_version": "1.2.0",
          "state": {
            "_model_module": "@jupyter-widgets/base",
            "_model_module_version": "1.2.0",
            "_model_name": "LayoutModel",
            "_view_count": null,
            "_view_module": "@jupyter-widgets/base",
            "_view_module_version": "1.2.0",
            "_view_name": "LayoutView",
            "align_content": null,
            "align_items": null,
            "align_self": null,
            "border": null,
            "bottom": null,
            "display": null,
            "flex": null,
            "flex_flow": null,
            "grid_area": null,
            "grid_auto_columns": null,
            "grid_auto_flow": null,
            "grid_auto_rows": null,
            "grid_column": null,
            "grid_gap": null,
            "grid_row": null,
            "grid_template_areas": null,
            "grid_template_columns": null,
            "grid_template_rows": null,
            "height": null,
            "justify_content": null,
            "justify_items": null,
            "left": null,
            "margin": null,
            "max_height": null,
            "max_width": null,
            "min_height": null,
            "min_width": null,
            "object_fit": null,
            "object_position": null,
            "order": null,
            "overflow": null,
            "overflow_x": null,
            "overflow_y": null,
            "padding": null,
            "right": null,
            "top": null,
            "visibility": null,
            "width": null
          }
        },
        "c70cb391f62347dfa67bb49599ac1df9": {
          "model_module": "@jupyter-widgets/controls",
          "model_name": "DescriptionStyleModel",
          "model_module_version": "1.5.0",
          "state": {
            "_model_module": "@jupyter-widgets/controls",
            "_model_module_version": "1.5.0",
            "_model_name": "DescriptionStyleModel",
            "_view_count": null,
            "_view_module": "@jupyter-widgets/base",
            "_view_module_version": "1.2.0",
            "_view_name": "StyleView",
            "description_width": ""
          }
        },
        "8e1de16b001f45ceb2e5b6f61654dffd": {
          "model_module": "@jupyter-widgets/controls",
          "model_name": "HBoxModel",
          "model_module_version": "1.5.0",
          "state": {
            "_dom_classes": [],
            "_model_module": "@jupyter-widgets/controls",
            "_model_module_version": "1.5.0",
            "_model_name": "HBoxModel",
            "_view_count": null,
            "_view_module": "@jupyter-widgets/controls",
            "_view_module_version": "1.5.0",
            "_view_name": "HBoxView",
            "box_style": "",
            "children": [
              "IPY_MODEL_cd1a91ed4e824fd187b7f16e8cc1d2b1",
              "IPY_MODEL_743c358ddd1545afa5aa8f196c834f75",
              "IPY_MODEL_cc2a73f245f6470d97b8149a966917b5"
            ],
            "layout": "IPY_MODEL_ef8d38090b47436badf330ad339a7759"
          }
        },
        "cd1a91ed4e824fd187b7f16e8cc1d2b1": {
          "model_module": "@jupyter-widgets/controls",
          "model_name": "HTMLModel",
          "model_module_version": "1.5.0",
          "state": {
            "_dom_classes": [],
            "_model_module": "@jupyter-widgets/controls",
            "_model_module_version": "1.5.0",
            "_model_name": "HTMLModel",
            "_view_count": null,
            "_view_module": "@jupyter-widgets/controls",
            "_view_module_version": "1.5.0",
            "_view_name": "HTMLView",
            "description": "",
            "description_tooltip": null,
            "layout": "IPY_MODEL_75b61496bc3147d6845139942cf7fd11",
            "placeholder": "​",
            "style": "IPY_MODEL_b54d549a24744007ab1c8506a2a0d28c",
            "value": "Generating train examples...: "
          }
        },
        "743c358ddd1545afa5aa8f196c834f75": {
          "model_module": "@jupyter-widgets/controls",
          "model_name": "FloatProgressModel",
          "model_module_version": "1.5.0",
          "state": {
            "_dom_classes": [],
            "_model_module": "@jupyter-widgets/controls",
            "_model_module_version": "1.5.0",
            "_model_name": "FloatProgressModel",
            "_view_count": null,
            "_view_module": "@jupyter-widgets/controls",
            "_view_module_version": "1.5.0",
            "_view_name": "ProgressView",
            "bar_style": "info",
            "description": "",
            "description_tooltip": null,
            "layout": "IPY_MODEL_2fe66f8ded7f4ddb8c0ee69de7c20b5d",
            "max": 1,
            "min": 0,
            "orientation": "horizontal",
            "style": "IPY_MODEL_ebb7e54d494748c4b6014dfaab71110a",
            "value": 1
          }
        },
        "cc2a73f245f6470d97b8149a966917b5": {
          "model_module": "@jupyter-widgets/controls",
          "model_name": "HTMLModel",
          "model_module_version": "1.5.0",
          "state": {
            "_dom_classes": [],
            "_model_module": "@jupyter-widgets/controls",
            "_model_module_version": "1.5.0",
            "_model_name": "HTMLModel",
            "_view_count": null,
            "_view_module": "@jupyter-widgets/controls",
            "_view_module_version": "1.5.0",
            "_view_name": "HTMLView",
            "description": "",
            "description_tooltip": null,
            "layout": "IPY_MODEL_b2f7a0499f0642d9be1ec94a3e5b126f",
            "placeholder": "​",
            "style": "IPY_MODEL_a77ea37bf0044739a4d50e64d48dfe6f",
            "value": " 87648/? [00:34&lt;00:00, 2489.26 examples/s]"
          }
        },
        "ef8d38090b47436badf330ad339a7759": {
          "model_module": "@jupyter-widgets/base",
          "model_name": "LayoutModel",
          "model_module_version": "1.2.0",
          "state": {
            "_model_module": "@jupyter-widgets/base",
            "_model_module_version": "1.2.0",
            "_model_name": "LayoutModel",
            "_view_count": null,
            "_view_module": "@jupyter-widgets/base",
            "_view_module_version": "1.2.0",
            "_view_name": "LayoutView",
            "align_content": null,
            "align_items": null,
            "align_self": null,
            "border": null,
            "bottom": null,
            "display": null,
            "flex": null,
            "flex_flow": null,
            "grid_area": null,
            "grid_auto_columns": null,
            "grid_auto_flow": null,
            "grid_auto_rows": null,
            "grid_column": null,
            "grid_gap": null,
            "grid_row": null,
            "grid_template_areas": null,
            "grid_template_columns": null,
            "grid_template_rows": null,
            "height": null,
            "justify_content": null,
            "justify_items": null,
            "left": null,
            "margin": null,
            "max_height": null,
            "max_width": null,
            "min_height": null,
            "min_width": null,
            "object_fit": null,
            "object_position": null,
            "order": null,
            "overflow": null,
            "overflow_x": null,
            "overflow_y": null,
            "padding": null,
            "right": null,
            "top": null,
            "visibility": "hidden",
            "width": null
          }
        },
        "75b61496bc3147d6845139942cf7fd11": {
          "model_module": "@jupyter-widgets/base",
          "model_name": "LayoutModel",
          "model_module_version": "1.2.0",
          "state": {
            "_model_module": "@jupyter-widgets/base",
            "_model_module_version": "1.2.0",
            "_model_name": "LayoutModel",
            "_view_count": null,
            "_view_module": "@jupyter-widgets/base",
            "_view_module_version": "1.2.0",
            "_view_name": "LayoutView",
            "align_content": null,
            "align_items": null,
            "align_self": null,
            "border": null,
            "bottom": null,
            "display": null,
            "flex": null,
            "flex_flow": null,
            "grid_area": null,
            "grid_auto_columns": null,
            "grid_auto_flow": null,
            "grid_auto_rows": null,
            "grid_column": null,
            "grid_gap": null,
            "grid_row": null,
            "grid_template_areas": null,
            "grid_template_columns": null,
            "grid_template_rows": null,
            "height": null,
            "justify_content": null,
            "justify_items": null,
            "left": null,
            "margin": null,
            "max_height": null,
            "max_width": null,
            "min_height": null,
            "min_width": null,
            "object_fit": null,
            "object_position": null,
            "order": null,
            "overflow": null,
            "overflow_x": null,
            "overflow_y": null,
            "padding": null,
            "right": null,
            "top": null,
            "visibility": null,
            "width": null
          }
        },
        "b54d549a24744007ab1c8506a2a0d28c": {
          "model_module": "@jupyter-widgets/controls",
          "model_name": "DescriptionStyleModel",
          "model_module_version": "1.5.0",
          "state": {
            "_model_module": "@jupyter-widgets/controls",
            "_model_module_version": "1.5.0",
            "_model_name": "DescriptionStyleModel",
            "_view_count": null,
            "_view_module": "@jupyter-widgets/base",
            "_view_module_version": "1.2.0",
            "_view_name": "StyleView",
            "description_width": ""
          }
        },
        "2fe66f8ded7f4ddb8c0ee69de7c20b5d": {
          "model_module": "@jupyter-widgets/base",
          "model_name": "LayoutModel",
          "model_module_version": "1.2.0",
          "state": {
            "_model_module": "@jupyter-widgets/base",
            "_model_module_version": "1.2.0",
            "_model_name": "LayoutModel",
            "_view_count": null,
            "_view_module": "@jupyter-widgets/base",
            "_view_module_version": "1.2.0",
            "_view_name": "LayoutView",
            "align_content": null,
            "align_items": null,
            "align_self": null,
            "border": null,
            "bottom": null,
            "display": null,
            "flex": null,
            "flex_flow": null,
            "grid_area": null,
            "grid_auto_columns": null,
            "grid_auto_flow": null,
            "grid_auto_rows": null,
            "grid_column": null,
            "grid_gap": null,
            "grid_row": null,
            "grid_template_areas": null,
            "grid_template_columns": null,
            "grid_template_rows": null,
            "height": null,
            "justify_content": null,
            "justify_items": null,
            "left": null,
            "margin": null,
            "max_height": null,
            "max_width": null,
            "min_height": null,
            "min_width": null,
            "object_fit": null,
            "object_position": null,
            "order": null,
            "overflow": null,
            "overflow_x": null,
            "overflow_y": null,
            "padding": null,
            "right": null,
            "top": null,
            "visibility": null,
            "width": "20px"
          }
        },
        "ebb7e54d494748c4b6014dfaab71110a": {
          "model_module": "@jupyter-widgets/controls",
          "model_name": "ProgressStyleModel",
          "model_module_version": "1.5.0",
          "state": {
            "_model_module": "@jupyter-widgets/controls",
            "_model_module_version": "1.5.0",
            "_model_name": "ProgressStyleModel",
            "_view_count": null,
            "_view_module": "@jupyter-widgets/base",
            "_view_module_version": "1.2.0",
            "_view_name": "StyleView",
            "bar_color": null,
            "description_width": ""
          }
        },
        "b2f7a0499f0642d9be1ec94a3e5b126f": {
          "model_module": "@jupyter-widgets/base",
          "model_name": "LayoutModel",
          "model_module_version": "1.2.0",
          "state": {
            "_model_module": "@jupyter-widgets/base",
            "_model_module_version": "1.2.0",
            "_model_name": "LayoutModel",
            "_view_count": null,
            "_view_module": "@jupyter-widgets/base",
            "_view_module_version": "1.2.0",
            "_view_name": "LayoutView",
            "align_content": null,
            "align_items": null,
            "align_self": null,
            "border": null,
            "bottom": null,
            "display": null,
            "flex": null,
            "flex_flow": null,
            "grid_area": null,
            "grid_auto_columns": null,
            "grid_auto_flow": null,
            "grid_auto_rows": null,
            "grid_column": null,
            "grid_gap": null,
            "grid_row": null,
            "grid_template_areas": null,
            "grid_template_columns": null,
            "grid_template_rows": null,
            "height": null,
            "justify_content": null,
            "justify_items": null,
            "left": null,
            "margin": null,
            "max_height": null,
            "max_width": null,
            "min_height": null,
            "min_width": null,
            "object_fit": null,
            "object_position": null,
            "order": null,
            "overflow": null,
            "overflow_x": null,
            "overflow_y": null,
            "padding": null,
            "right": null,
            "top": null,
            "visibility": null,
            "width": null
          }
        },
        "a77ea37bf0044739a4d50e64d48dfe6f": {
          "model_module": "@jupyter-widgets/controls",
          "model_name": "DescriptionStyleModel",
          "model_module_version": "1.5.0",
          "state": {
            "_model_module": "@jupyter-widgets/controls",
            "_model_module_version": "1.5.0",
            "_model_name": "DescriptionStyleModel",
            "_view_count": null,
            "_view_module": "@jupyter-widgets/base",
            "_view_module_version": "1.2.0",
            "_view_name": "StyleView",
            "description_width": ""
          }
        },
        "b3c911e6b8bd41028399c05e68a2b3ea": {
          "model_module": "@jupyter-widgets/controls",
          "model_name": "HBoxModel",
          "model_module_version": "1.5.0",
          "state": {
            "_dom_classes": [],
            "_model_module": "@jupyter-widgets/controls",
            "_model_module_version": "1.5.0",
            "_model_name": "HBoxModel",
            "_view_count": null,
            "_view_module": "@jupyter-widgets/controls",
            "_view_module_version": "1.5.0",
            "_view_name": "HBoxView",
            "box_style": "",
            "children": [
              "IPY_MODEL_d2a1981a3087491d930023532e8d76b3",
              "IPY_MODEL_844053876a124ec4a1ebdd01b1eee24f",
              "IPY_MODEL_b6b2a0442cc5400d94fed6aed6a3947b"
            ],
            "layout": "IPY_MODEL_1edabd7153d944ad99fb5115a6646f6b"
          }
        },
        "d2a1981a3087491d930023532e8d76b3": {
          "model_module": "@jupyter-widgets/controls",
          "model_name": "HTMLModel",
          "model_module_version": "1.5.0",
          "state": {
            "_dom_classes": [],
            "_model_module": "@jupyter-widgets/controls",
            "_model_module_version": "1.5.0",
            "_model_name": "HTMLModel",
            "_view_count": null,
            "_view_module": "@jupyter-widgets/controls",
            "_view_module_version": "1.5.0",
            "_view_name": "HTMLView",
            "description": "",
            "description_tooltip": null,
            "layout": "IPY_MODEL_1abfe2068346443a8a89b83b8cf4b6eb",
            "placeholder": "​",
            "style": "IPY_MODEL_202f3db5a04846d6941d50b718db8262",
            "value": "Shuffling /root/tensorflow_datasets/emnist/letters/incomplete.4J0F92_3.1.0/emnist-train.tfrecord*...:   0%"
          }
        },
        "844053876a124ec4a1ebdd01b1eee24f": {
          "model_module": "@jupyter-widgets/controls",
          "model_name": "FloatProgressModel",
          "model_module_version": "1.5.0",
          "state": {
            "_dom_classes": [],
            "_model_module": "@jupyter-widgets/controls",
            "_model_module_version": "1.5.0",
            "_model_name": "FloatProgressModel",
            "_view_count": null,
            "_view_module": "@jupyter-widgets/controls",
            "_view_module_version": "1.5.0",
            "_view_name": "ProgressView",
            "bar_style": "",
            "description": "",
            "description_tooltip": null,
            "layout": "IPY_MODEL_9c0b0d0e05b042579b25fc36910932a7",
            "max": 88800,
            "min": 0,
            "orientation": "horizontal",
            "style": "IPY_MODEL_da2fda7ce206499d8344834bb11c12b7",
            "value": 88800
          }
        },
        "b6b2a0442cc5400d94fed6aed6a3947b": {
          "model_module": "@jupyter-widgets/controls",
          "model_name": "HTMLModel",
          "model_module_version": "1.5.0",
          "state": {
            "_dom_classes": [],
            "_model_module": "@jupyter-widgets/controls",
            "_model_module_version": "1.5.0",
            "_model_name": "HTMLModel",
            "_view_count": null,
            "_view_module": "@jupyter-widgets/controls",
            "_view_module_version": "1.5.0",
            "_view_name": "HTMLView",
            "description": "",
            "description_tooltip": null,
            "layout": "IPY_MODEL_ed447a7aa3d74df4964cbd8e2c784681",
            "placeholder": "​",
            "style": "IPY_MODEL_89d723e85ba6452a81f521efca3a0c79",
            "value": " 0/88800 [00:00&lt;?, ? examples/s]"
          }
        },
        "1edabd7153d944ad99fb5115a6646f6b": {
          "model_module": "@jupyter-widgets/base",
          "model_name": "LayoutModel",
          "model_module_version": "1.2.0",
          "state": {
            "_model_module": "@jupyter-widgets/base",
            "_model_module_version": "1.2.0",
            "_model_name": "LayoutModel",
            "_view_count": null,
            "_view_module": "@jupyter-widgets/base",
            "_view_module_version": "1.2.0",
            "_view_name": "LayoutView",
            "align_content": null,
            "align_items": null,
            "align_self": null,
            "border": null,
            "bottom": null,
            "display": null,
            "flex": null,
            "flex_flow": null,
            "grid_area": null,
            "grid_auto_columns": null,
            "grid_auto_flow": null,
            "grid_auto_rows": null,
            "grid_column": null,
            "grid_gap": null,
            "grid_row": null,
            "grid_template_areas": null,
            "grid_template_columns": null,
            "grid_template_rows": null,
            "height": null,
            "justify_content": null,
            "justify_items": null,
            "left": null,
            "margin": null,
            "max_height": null,
            "max_width": null,
            "min_height": null,
            "min_width": null,
            "object_fit": null,
            "object_position": null,
            "order": null,
            "overflow": null,
            "overflow_x": null,
            "overflow_y": null,
            "padding": null,
            "right": null,
            "top": null,
            "visibility": "hidden",
            "width": null
          }
        },
        "1abfe2068346443a8a89b83b8cf4b6eb": {
          "model_module": "@jupyter-widgets/base",
          "model_name": "LayoutModel",
          "model_module_version": "1.2.0",
          "state": {
            "_model_module": "@jupyter-widgets/base",
            "_model_module_version": "1.2.0",
            "_model_name": "LayoutModel",
            "_view_count": null,
            "_view_module": "@jupyter-widgets/base",
            "_view_module_version": "1.2.0",
            "_view_name": "LayoutView",
            "align_content": null,
            "align_items": null,
            "align_self": null,
            "border": null,
            "bottom": null,
            "display": null,
            "flex": null,
            "flex_flow": null,
            "grid_area": null,
            "grid_auto_columns": null,
            "grid_auto_flow": null,
            "grid_auto_rows": null,
            "grid_column": null,
            "grid_gap": null,
            "grid_row": null,
            "grid_template_areas": null,
            "grid_template_columns": null,
            "grid_template_rows": null,
            "height": null,
            "justify_content": null,
            "justify_items": null,
            "left": null,
            "margin": null,
            "max_height": null,
            "max_width": null,
            "min_height": null,
            "min_width": null,
            "object_fit": null,
            "object_position": null,
            "order": null,
            "overflow": null,
            "overflow_x": null,
            "overflow_y": null,
            "padding": null,
            "right": null,
            "top": null,
            "visibility": null,
            "width": null
          }
        },
        "202f3db5a04846d6941d50b718db8262": {
          "model_module": "@jupyter-widgets/controls",
          "model_name": "DescriptionStyleModel",
          "model_module_version": "1.5.0",
          "state": {
            "_model_module": "@jupyter-widgets/controls",
            "_model_module_version": "1.5.0",
            "_model_name": "DescriptionStyleModel",
            "_view_count": null,
            "_view_module": "@jupyter-widgets/base",
            "_view_module_version": "1.2.0",
            "_view_name": "StyleView",
            "description_width": ""
          }
        },
        "9c0b0d0e05b042579b25fc36910932a7": {
          "model_module": "@jupyter-widgets/base",
          "model_name": "LayoutModel",
          "model_module_version": "1.2.0",
          "state": {
            "_model_module": "@jupyter-widgets/base",
            "_model_module_version": "1.2.0",
            "_model_name": "LayoutModel",
            "_view_count": null,
            "_view_module": "@jupyter-widgets/base",
            "_view_module_version": "1.2.0",
            "_view_name": "LayoutView",
            "align_content": null,
            "align_items": null,
            "align_self": null,
            "border": null,
            "bottom": null,
            "display": null,
            "flex": null,
            "flex_flow": null,
            "grid_area": null,
            "grid_auto_columns": null,
            "grid_auto_flow": null,
            "grid_auto_rows": null,
            "grid_column": null,
            "grid_gap": null,
            "grid_row": null,
            "grid_template_areas": null,
            "grid_template_columns": null,
            "grid_template_rows": null,
            "height": null,
            "justify_content": null,
            "justify_items": null,
            "left": null,
            "margin": null,
            "max_height": null,
            "max_width": null,
            "min_height": null,
            "min_width": null,
            "object_fit": null,
            "object_position": null,
            "order": null,
            "overflow": null,
            "overflow_x": null,
            "overflow_y": null,
            "padding": null,
            "right": null,
            "top": null,
            "visibility": null,
            "width": null
          }
        },
        "da2fda7ce206499d8344834bb11c12b7": {
          "model_module": "@jupyter-widgets/controls",
          "model_name": "ProgressStyleModel",
          "model_module_version": "1.5.0",
          "state": {
            "_model_module": "@jupyter-widgets/controls",
            "_model_module_version": "1.5.0",
            "_model_name": "ProgressStyleModel",
            "_view_count": null,
            "_view_module": "@jupyter-widgets/base",
            "_view_module_version": "1.2.0",
            "_view_name": "StyleView",
            "bar_color": null,
            "description_width": ""
          }
        },
        "ed447a7aa3d74df4964cbd8e2c784681": {
          "model_module": "@jupyter-widgets/base",
          "model_name": "LayoutModel",
          "model_module_version": "1.2.0",
          "state": {
            "_model_module": "@jupyter-widgets/base",
            "_model_module_version": "1.2.0",
            "_model_name": "LayoutModel",
            "_view_count": null,
            "_view_module": "@jupyter-widgets/base",
            "_view_module_version": "1.2.0",
            "_view_name": "LayoutView",
            "align_content": null,
            "align_items": null,
            "align_self": null,
            "border": null,
            "bottom": null,
            "display": null,
            "flex": null,
            "flex_flow": null,
            "grid_area": null,
            "grid_auto_columns": null,
            "grid_auto_flow": null,
            "grid_auto_rows": null,
            "grid_column": null,
            "grid_gap": null,
            "grid_row": null,
            "grid_template_areas": null,
            "grid_template_columns": null,
            "grid_template_rows": null,
            "height": null,
            "justify_content": null,
            "justify_items": null,
            "left": null,
            "margin": null,
            "max_height": null,
            "max_width": null,
            "min_height": null,
            "min_width": null,
            "object_fit": null,
            "object_position": null,
            "order": null,
            "overflow": null,
            "overflow_x": null,
            "overflow_y": null,
            "padding": null,
            "right": null,
            "top": null,
            "visibility": null,
            "width": null
          }
        },
        "89d723e85ba6452a81f521efca3a0c79": {
          "model_module": "@jupyter-widgets/controls",
          "model_name": "DescriptionStyleModel",
          "model_module_version": "1.5.0",
          "state": {
            "_model_module": "@jupyter-widgets/controls",
            "_model_module_version": "1.5.0",
            "_model_name": "DescriptionStyleModel",
            "_view_count": null,
            "_view_module": "@jupyter-widgets/base",
            "_view_module_version": "1.2.0",
            "_view_name": "StyleView",
            "description_width": ""
          }
        },
        "9f94e944f23c4b8085560cf33cc9f700": {
          "model_module": "@jupyter-widgets/controls",
          "model_name": "HBoxModel",
          "model_module_version": "1.5.0",
          "state": {
            "_dom_classes": [],
            "_model_module": "@jupyter-widgets/controls",
            "_model_module_version": "1.5.0",
            "_model_name": "HBoxModel",
            "_view_count": null,
            "_view_module": "@jupyter-widgets/controls",
            "_view_module_version": "1.5.0",
            "_view_name": "HBoxView",
            "box_style": "",
            "children": [
              "IPY_MODEL_c36ea0fa790d4099a5644fc454050d8e",
              "IPY_MODEL_6a29ff3ba73f49e1a8e5408bf74468db",
              "IPY_MODEL_38e7159801394964a9d3040632d0dadb"
            ],
            "layout": "IPY_MODEL_6b52cff67bc84ea9ba9b064ece1412d4"
          }
        },
        "c36ea0fa790d4099a5644fc454050d8e": {
          "model_module": "@jupyter-widgets/controls",
          "model_name": "HTMLModel",
          "model_module_version": "1.5.0",
          "state": {
            "_dom_classes": [],
            "_model_module": "@jupyter-widgets/controls",
            "_model_module_version": "1.5.0",
            "_model_name": "HTMLModel",
            "_view_count": null,
            "_view_module": "@jupyter-widgets/controls",
            "_view_module_version": "1.5.0",
            "_view_name": "HTMLView",
            "description": "",
            "description_tooltip": null,
            "layout": "IPY_MODEL_cbb13605410146a8b3e65bc2f99ceb1d",
            "placeholder": "​",
            "style": "IPY_MODEL_fec369fe939d466ca74919d103b539b9",
            "value": "Generating test examples...: "
          }
        },
        "6a29ff3ba73f49e1a8e5408bf74468db": {
          "model_module": "@jupyter-widgets/controls",
          "model_name": "FloatProgressModel",
          "model_module_version": "1.5.0",
          "state": {
            "_dom_classes": [],
            "_model_module": "@jupyter-widgets/controls",
            "_model_module_version": "1.5.0",
            "_model_name": "FloatProgressModel",
            "_view_count": null,
            "_view_module": "@jupyter-widgets/controls",
            "_view_module_version": "1.5.0",
            "_view_name": "ProgressView",
            "bar_style": "info",
            "description": "",
            "description_tooltip": null,
            "layout": "IPY_MODEL_1ef28cbee06c4f6283612b1d18ec45a4",
            "max": 1,
            "min": 0,
            "orientation": "horizontal",
            "style": "IPY_MODEL_e8e7b2957ae24f658a1b70a05f178c7d",
            "value": 1
          }
        },
        "38e7159801394964a9d3040632d0dadb": {
          "model_module": "@jupyter-widgets/controls",
          "model_name": "HTMLModel",
          "model_module_version": "1.5.0",
          "state": {
            "_dom_classes": [],
            "_model_module": "@jupyter-widgets/controls",
            "_model_module_version": "1.5.0",
            "_model_name": "HTMLModel",
            "_view_count": null,
            "_view_module": "@jupyter-widgets/controls",
            "_view_module_version": "1.5.0",
            "_view_name": "HTMLView",
            "description": "",
            "description_tooltip": null,
            "layout": "IPY_MODEL_6b26a8fb7ff341e29a8a27d1e6bfa411",
            "placeholder": "​",
            "style": "IPY_MODEL_9bd8256b730c4b268781025d0105c0ea",
            "value": " 13760/? [00:05&lt;00:00, 2760.09 examples/s]"
          }
        },
        "6b52cff67bc84ea9ba9b064ece1412d4": {
          "model_module": "@jupyter-widgets/base",
          "model_name": "LayoutModel",
          "model_module_version": "1.2.0",
          "state": {
            "_model_module": "@jupyter-widgets/base",
            "_model_module_version": "1.2.0",
            "_model_name": "LayoutModel",
            "_view_count": null,
            "_view_module": "@jupyter-widgets/base",
            "_view_module_version": "1.2.0",
            "_view_name": "LayoutView",
            "align_content": null,
            "align_items": null,
            "align_self": null,
            "border": null,
            "bottom": null,
            "display": null,
            "flex": null,
            "flex_flow": null,
            "grid_area": null,
            "grid_auto_columns": null,
            "grid_auto_flow": null,
            "grid_auto_rows": null,
            "grid_column": null,
            "grid_gap": null,
            "grid_row": null,
            "grid_template_areas": null,
            "grid_template_columns": null,
            "grid_template_rows": null,
            "height": null,
            "justify_content": null,
            "justify_items": null,
            "left": null,
            "margin": null,
            "max_height": null,
            "max_width": null,
            "min_height": null,
            "min_width": null,
            "object_fit": null,
            "object_position": null,
            "order": null,
            "overflow": null,
            "overflow_x": null,
            "overflow_y": null,
            "padding": null,
            "right": null,
            "top": null,
            "visibility": "hidden",
            "width": null
          }
        },
        "cbb13605410146a8b3e65bc2f99ceb1d": {
          "model_module": "@jupyter-widgets/base",
          "model_name": "LayoutModel",
          "model_module_version": "1.2.0",
          "state": {
            "_model_module": "@jupyter-widgets/base",
            "_model_module_version": "1.2.0",
            "_model_name": "LayoutModel",
            "_view_count": null,
            "_view_module": "@jupyter-widgets/base",
            "_view_module_version": "1.2.0",
            "_view_name": "LayoutView",
            "align_content": null,
            "align_items": null,
            "align_self": null,
            "border": null,
            "bottom": null,
            "display": null,
            "flex": null,
            "flex_flow": null,
            "grid_area": null,
            "grid_auto_columns": null,
            "grid_auto_flow": null,
            "grid_auto_rows": null,
            "grid_column": null,
            "grid_gap": null,
            "grid_row": null,
            "grid_template_areas": null,
            "grid_template_columns": null,
            "grid_template_rows": null,
            "height": null,
            "justify_content": null,
            "justify_items": null,
            "left": null,
            "margin": null,
            "max_height": null,
            "max_width": null,
            "min_height": null,
            "min_width": null,
            "object_fit": null,
            "object_position": null,
            "order": null,
            "overflow": null,
            "overflow_x": null,
            "overflow_y": null,
            "padding": null,
            "right": null,
            "top": null,
            "visibility": null,
            "width": null
          }
        },
        "fec369fe939d466ca74919d103b539b9": {
          "model_module": "@jupyter-widgets/controls",
          "model_name": "DescriptionStyleModel",
          "model_module_version": "1.5.0",
          "state": {
            "_model_module": "@jupyter-widgets/controls",
            "_model_module_version": "1.5.0",
            "_model_name": "DescriptionStyleModel",
            "_view_count": null,
            "_view_module": "@jupyter-widgets/base",
            "_view_module_version": "1.2.0",
            "_view_name": "StyleView",
            "description_width": ""
          }
        },
        "1ef28cbee06c4f6283612b1d18ec45a4": {
          "model_module": "@jupyter-widgets/base",
          "model_name": "LayoutModel",
          "model_module_version": "1.2.0",
          "state": {
            "_model_module": "@jupyter-widgets/base",
            "_model_module_version": "1.2.0",
            "_model_name": "LayoutModel",
            "_view_count": null,
            "_view_module": "@jupyter-widgets/base",
            "_view_module_version": "1.2.0",
            "_view_name": "LayoutView",
            "align_content": null,
            "align_items": null,
            "align_self": null,
            "border": null,
            "bottom": null,
            "display": null,
            "flex": null,
            "flex_flow": null,
            "grid_area": null,
            "grid_auto_columns": null,
            "grid_auto_flow": null,
            "grid_auto_rows": null,
            "grid_column": null,
            "grid_gap": null,
            "grid_row": null,
            "grid_template_areas": null,
            "grid_template_columns": null,
            "grid_template_rows": null,
            "height": null,
            "justify_content": null,
            "justify_items": null,
            "left": null,
            "margin": null,
            "max_height": null,
            "max_width": null,
            "min_height": null,
            "min_width": null,
            "object_fit": null,
            "object_position": null,
            "order": null,
            "overflow": null,
            "overflow_x": null,
            "overflow_y": null,
            "padding": null,
            "right": null,
            "top": null,
            "visibility": null,
            "width": "20px"
          }
        },
        "e8e7b2957ae24f658a1b70a05f178c7d": {
          "model_module": "@jupyter-widgets/controls",
          "model_name": "ProgressStyleModel",
          "model_module_version": "1.5.0",
          "state": {
            "_model_module": "@jupyter-widgets/controls",
            "_model_module_version": "1.5.0",
            "_model_name": "ProgressStyleModel",
            "_view_count": null,
            "_view_module": "@jupyter-widgets/base",
            "_view_module_version": "1.2.0",
            "_view_name": "StyleView",
            "bar_color": null,
            "description_width": ""
          }
        },
        "6b26a8fb7ff341e29a8a27d1e6bfa411": {
          "model_module": "@jupyter-widgets/base",
          "model_name": "LayoutModel",
          "model_module_version": "1.2.0",
          "state": {
            "_model_module": "@jupyter-widgets/base",
            "_model_module_version": "1.2.0",
            "_model_name": "LayoutModel",
            "_view_count": null,
            "_view_module": "@jupyter-widgets/base",
            "_view_module_version": "1.2.0",
            "_view_name": "LayoutView",
            "align_content": null,
            "align_items": null,
            "align_self": null,
            "border": null,
            "bottom": null,
            "display": null,
            "flex": null,
            "flex_flow": null,
            "grid_area": null,
            "grid_auto_columns": null,
            "grid_auto_flow": null,
            "grid_auto_rows": null,
            "grid_column": null,
            "grid_gap": null,
            "grid_row": null,
            "grid_template_areas": null,
            "grid_template_columns": null,
            "grid_template_rows": null,
            "height": null,
            "justify_content": null,
            "justify_items": null,
            "left": null,
            "margin": null,
            "max_height": null,
            "max_width": null,
            "min_height": null,
            "min_width": null,
            "object_fit": null,
            "object_position": null,
            "order": null,
            "overflow": null,
            "overflow_x": null,
            "overflow_y": null,
            "padding": null,
            "right": null,
            "top": null,
            "visibility": null,
            "width": null
          }
        },
        "9bd8256b730c4b268781025d0105c0ea": {
          "model_module": "@jupyter-widgets/controls",
          "model_name": "DescriptionStyleModel",
          "model_module_version": "1.5.0",
          "state": {
            "_model_module": "@jupyter-widgets/controls",
            "_model_module_version": "1.5.0",
            "_model_name": "DescriptionStyleModel",
            "_view_count": null,
            "_view_module": "@jupyter-widgets/base",
            "_view_module_version": "1.2.0",
            "_view_name": "StyleView",
            "description_width": ""
          }
        },
        "3ec4cf46e2e84d579ac70e884a65e377": {
          "model_module": "@jupyter-widgets/controls",
          "model_name": "HBoxModel",
          "model_module_version": "1.5.0",
          "state": {
            "_dom_classes": [],
            "_model_module": "@jupyter-widgets/controls",
            "_model_module_version": "1.5.0",
            "_model_name": "HBoxModel",
            "_view_count": null,
            "_view_module": "@jupyter-widgets/controls",
            "_view_module_version": "1.5.0",
            "_view_name": "HBoxView",
            "box_style": "",
            "children": [
              "IPY_MODEL_afa389d4653842868571cd3c8b69a4d5",
              "IPY_MODEL_4a73a987ce714909b9ed839fb6ca6d4f",
              "IPY_MODEL_1a3d675c71714393be7875546dd7127d"
            ],
            "layout": "IPY_MODEL_b936de8806534bd98333df5a29552df8"
          }
        },
        "afa389d4653842868571cd3c8b69a4d5": {
          "model_module": "@jupyter-widgets/controls",
          "model_name": "HTMLModel",
          "model_module_version": "1.5.0",
          "state": {
            "_dom_classes": [],
            "_model_module": "@jupyter-widgets/controls",
            "_model_module_version": "1.5.0",
            "_model_name": "HTMLModel",
            "_view_count": null,
            "_view_module": "@jupyter-widgets/controls",
            "_view_module_version": "1.5.0",
            "_view_name": "HTMLView",
            "description": "",
            "description_tooltip": null,
            "layout": "IPY_MODEL_412f3eb333054b48880f1945afb17b18",
            "placeholder": "​",
            "style": "IPY_MODEL_ebc1fb856315479b87f19dbd8df713de",
            "value": "Shuffling /root/tensorflow_datasets/emnist/letters/incomplete.4J0F92_3.1.0/emnist-test.tfrecord*...:   0%"
          }
        },
        "4a73a987ce714909b9ed839fb6ca6d4f": {
          "model_module": "@jupyter-widgets/controls",
          "model_name": "FloatProgressModel",
          "model_module_version": "1.5.0",
          "state": {
            "_dom_classes": [],
            "_model_module": "@jupyter-widgets/controls",
            "_model_module_version": "1.5.0",
            "_model_name": "FloatProgressModel",
            "_view_count": null,
            "_view_module": "@jupyter-widgets/controls",
            "_view_module_version": "1.5.0",
            "_view_name": "ProgressView",
            "bar_style": "",
            "description": "",
            "description_tooltip": null,
            "layout": "IPY_MODEL_b2611e03e026419a9286f9b3a45c68e4",
            "max": 14800,
            "min": 0,
            "orientation": "horizontal",
            "style": "IPY_MODEL_acbf85099acb43b8b08abcaba5a7a123",
            "value": 14800
          }
        },
        "1a3d675c71714393be7875546dd7127d": {
          "model_module": "@jupyter-widgets/controls",
          "model_name": "HTMLModel",
          "model_module_version": "1.5.0",
          "state": {
            "_dom_classes": [],
            "_model_module": "@jupyter-widgets/controls",
            "_model_module_version": "1.5.0",
            "_model_name": "HTMLModel",
            "_view_count": null,
            "_view_module": "@jupyter-widgets/controls",
            "_view_module_version": "1.5.0",
            "_view_name": "HTMLView",
            "description": "",
            "description_tooltip": null,
            "layout": "IPY_MODEL_2e036183a5f54c3385872fcec8214fef",
            "placeholder": "​",
            "style": "IPY_MODEL_0d86ba477a2f4a4e832364e16a519faf",
            "value": " 0/14800 [00:00&lt;?, ? examples/s]"
          }
        },
        "b936de8806534bd98333df5a29552df8": {
          "model_module": "@jupyter-widgets/base",
          "model_name": "LayoutModel",
          "model_module_version": "1.2.0",
          "state": {
            "_model_module": "@jupyter-widgets/base",
            "_model_module_version": "1.2.0",
            "_model_name": "LayoutModel",
            "_view_count": null,
            "_view_module": "@jupyter-widgets/base",
            "_view_module_version": "1.2.0",
            "_view_name": "LayoutView",
            "align_content": null,
            "align_items": null,
            "align_self": null,
            "border": null,
            "bottom": null,
            "display": null,
            "flex": null,
            "flex_flow": null,
            "grid_area": null,
            "grid_auto_columns": null,
            "grid_auto_flow": null,
            "grid_auto_rows": null,
            "grid_column": null,
            "grid_gap": null,
            "grid_row": null,
            "grid_template_areas": null,
            "grid_template_columns": null,
            "grid_template_rows": null,
            "height": null,
            "justify_content": null,
            "justify_items": null,
            "left": null,
            "margin": null,
            "max_height": null,
            "max_width": null,
            "min_height": null,
            "min_width": null,
            "object_fit": null,
            "object_position": null,
            "order": null,
            "overflow": null,
            "overflow_x": null,
            "overflow_y": null,
            "padding": null,
            "right": null,
            "top": null,
            "visibility": "hidden",
            "width": null
          }
        },
        "412f3eb333054b48880f1945afb17b18": {
          "model_module": "@jupyter-widgets/base",
          "model_name": "LayoutModel",
          "model_module_version": "1.2.0",
          "state": {
            "_model_module": "@jupyter-widgets/base",
            "_model_module_version": "1.2.0",
            "_model_name": "LayoutModel",
            "_view_count": null,
            "_view_module": "@jupyter-widgets/base",
            "_view_module_version": "1.2.0",
            "_view_name": "LayoutView",
            "align_content": null,
            "align_items": null,
            "align_self": null,
            "border": null,
            "bottom": null,
            "display": null,
            "flex": null,
            "flex_flow": null,
            "grid_area": null,
            "grid_auto_columns": null,
            "grid_auto_flow": null,
            "grid_auto_rows": null,
            "grid_column": null,
            "grid_gap": null,
            "grid_row": null,
            "grid_template_areas": null,
            "grid_template_columns": null,
            "grid_template_rows": null,
            "height": null,
            "justify_content": null,
            "justify_items": null,
            "left": null,
            "margin": null,
            "max_height": null,
            "max_width": null,
            "min_height": null,
            "min_width": null,
            "object_fit": null,
            "object_position": null,
            "order": null,
            "overflow": null,
            "overflow_x": null,
            "overflow_y": null,
            "padding": null,
            "right": null,
            "top": null,
            "visibility": null,
            "width": null
          }
        },
        "ebc1fb856315479b87f19dbd8df713de": {
          "model_module": "@jupyter-widgets/controls",
          "model_name": "DescriptionStyleModel",
          "model_module_version": "1.5.0",
          "state": {
            "_model_module": "@jupyter-widgets/controls",
            "_model_module_version": "1.5.0",
            "_model_name": "DescriptionStyleModel",
            "_view_count": null,
            "_view_module": "@jupyter-widgets/base",
            "_view_module_version": "1.2.0",
            "_view_name": "StyleView",
            "description_width": ""
          }
        },
        "b2611e03e026419a9286f9b3a45c68e4": {
          "model_module": "@jupyter-widgets/base",
          "model_name": "LayoutModel",
          "model_module_version": "1.2.0",
          "state": {
            "_model_module": "@jupyter-widgets/base",
            "_model_module_version": "1.2.0",
            "_model_name": "LayoutModel",
            "_view_count": null,
            "_view_module": "@jupyter-widgets/base",
            "_view_module_version": "1.2.0",
            "_view_name": "LayoutView",
            "align_content": null,
            "align_items": null,
            "align_self": null,
            "border": null,
            "bottom": null,
            "display": null,
            "flex": null,
            "flex_flow": null,
            "grid_area": null,
            "grid_auto_columns": null,
            "grid_auto_flow": null,
            "grid_auto_rows": null,
            "grid_column": null,
            "grid_gap": null,
            "grid_row": null,
            "grid_template_areas": null,
            "grid_template_columns": null,
            "grid_template_rows": null,
            "height": null,
            "justify_content": null,
            "justify_items": null,
            "left": null,
            "margin": null,
            "max_height": null,
            "max_width": null,
            "min_height": null,
            "min_width": null,
            "object_fit": null,
            "object_position": null,
            "order": null,
            "overflow": null,
            "overflow_x": null,
            "overflow_y": null,
            "padding": null,
            "right": null,
            "top": null,
            "visibility": null,
            "width": null
          }
        },
        "acbf85099acb43b8b08abcaba5a7a123": {
          "model_module": "@jupyter-widgets/controls",
          "model_name": "ProgressStyleModel",
          "model_module_version": "1.5.0",
          "state": {
            "_model_module": "@jupyter-widgets/controls",
            "_model_module_version": "1.5.0",
            "_model_name": "ProgressStyleModel",
            "_view_count": null,
            "_view_module": "@jupyter-widgets/base",
            "_view_module_version": "1.2.0",
            "_view_name": "StyleView",
            "bar_color": null,
            "description_width": ""
          }
        },
        "2e036183a5f54c3385872fcec8214fef": {
          "model_module": "@jupyter-widgets/base",
          "model_name": "LayoutModel",
          "model_module_version": "1.2.0",
          "state": {
            "_model_module": "@jupyter-widgets/base",
            "_model_module_version": "1.2.0",
            "_model_name": "LayoutModel",
            "_view_count": null,
            "_view_module": "@jupyter-widgets/base",
            "_view_module_version": "1.2.0",
            "_view_name": "LayoutView",
            "align_content": null,
            "align_items": null,
            "align_self": null,
            "border": null,
            "bottom": null,
            "display": null,
            "flex": null,
            "flex_flow": null,
            "grid_area": null,
            "grid_auto_columns": null,
            "grid_auto_flow": null,
            "grid_auto_rows": null,
            "grid_column": null,
            "grid_gap": null,
            "grid_row": null,
            "grid_template_areas": null,
            "grid_template_columns": null,
            "grid_template_rows": null,
            "height": null,
            "justify_content": null,
            "justify_items": null,
            "left": null,
            "margin": null,
            "max_height": null,
            "max_width": null,
            "min_height": null,
            "min_width": null,
            "object_fit": null,
            "object_position": null,
            "order": null,
            "overflow": null,
            "overflow_x": null,
            "overflow_y": null,
            "padding": null,
            "right": null,
            "top": null,
            "visibility": null,
            "width": null
          }
        },
        "0d86ba477a2f4a4e832364e16a519faf": {
          "model_module": "@jupyter-widgets/controls",
          "model_name": "DescriptionStyleModel",
          "model_module_version": "1.5.0",
          "state": {
            "_model_module": "@jupyter-widgets/controls",
            "_model_module_version": "1.5.0",
            "_model_name": "DescriptionStyleModel",
            "_view_count": null,
            "_view_module": "@jupyter-widgets/base",
            "_view_module_version": "1.2.0",
            "_view_name": "StyleView",
            "description_width": ""
          }
        }
      }
  "state": {}
    }
  },
  "cells": [
    {
      "cell_type": "markdown",
      "metadata": {
        "id": "view-in-github",
        "colab_type": "text"
      },
      "source": [
        "<a href=\"https://colab.research.google.com/github/Naga-Aditya-Anand/Machine-Learning-Projects/blob/main/Alphabet-Recognition-CNN/AlphabetRecognitionCNN.ipynb\" target=\"_parent\"><img src=\"https://colab.research.google.com/assets/colab-badge.svg\" alt=\"Open In Colab\"/></a>"
      ]
    },
    {
      "cell_type": "markdown",
      "source": [
        "# Alphabet Recognition Using CNN"
      ],
      "metadata": {
        "id": "DmaXf6ZpczYt"
      }
    },
    {
      "cell_type": "markdown",
      "source": [
        "## Importing Libraries"
      ],
      "metadata": {
        "id": "JvU4vFwQc22E"
      }
    },
    {
      "cell_type": "code",
      "execution_count": null,
      "metadata": {
        "id": "czppQgmJCZTO"
      },
      "outputs": [],
      "source": [
        "import numpy as np\n",
        "import pandas as pd\n",
        "import matplotlib.pyplot as plt\n",
        "import tensorflow as tf\n",
        "from tensorflow import keras\n",
        "from tensorflow.keras.models import Sequential\n",
        "from tensorflow.keras.layers import Dense,Dropout,Conv2D,MaxPooling2D,Flatten\n",
        "import tensorflow_datasets as tfds"
      ]
    },
    {
      "cell_type": "code",
      "source": [
        "import cv2"
      ],
      "metadata": {
        "id": "UFarOCKZPcQZ"
      },
      "execution_count": null,
      "outputs": []
    },
    {
      "cell_type": "markdown",
      "source": [
        "## Importing the Dataset"
      ],
      "metadata": {
        "id": "5sL3HvBBc6qm"
      }
    },
    {
      "cell_type": "code",
      "source": [
        "(dtrain,dtest),info = tfds.load('emnist/letters',split=['train','test'],with_info=True,as_supervised=True)"
      ],
      "metadata": {
        "id": "yFh7dyN5DmB1",
        "colab": {
          "base_uri": "https://localhost:8080/",
          "height": 219,
          "referenced_widgets": [
            "9ec1005a116d4e1e90bb07f73f198304",
            "1d2c0358d3e24848a625bbff26a7dc19",
            "6a925ba1cc94421ca6747df5f874c076",
            "a25d412a6db245d48efbc469fd3c7a86",
            "39efab401add4d25a3f503ca3c397fe2",
            "8d41e90bc1814c64845a633348bc51d6",
            "b3d2898c640045feb905187b9662a807",
            "d490ed14aea24f2ebf59e6dc056e8906",
            "52943392a7f24f40a515ce5d8dc8fb2f",
            "d1f097bffa924b3c8cd15cc6042eaef9",
            "2a4e28a792bc441883257d1220c11a29",
            "345806ac6b89462cb7798f73cad7db3b",
            "9077d775aca5492080a66e0c1a927d9c",
            "0ca6841bdcfe4987ab81f57fa916bc30",
            "d62a89e8595d4e5faabe3ea42f716e3b",
            "7553cf657539402d9a86e4bfb4261d4d",
            "316900bcc9ff4b7294112e2dbe5b8b32",
            "a30bc3281aa84891b6ee8c4fff0f5b47",
            "0c3f10ffe7574f0d8f1141d49a8b51f7",
            "f5354d24b951483f8a925b594645e1d7",
            "59e807589ae242369049c18b8d3018b6",
            "f330fe68228541f6a6454916e0d7d62e",
            "3680ab0a599646f6b0693faa678db005",
            "210c04f02c36409b8c1153b496312317",
            "3f6b559869634277bbd56a8f72d5e1de",
            "484b6c26f1124ad0922b356f700dc87f",
            "0312a6f0da6c45a0ad646fbfc76cc2da",
            "34fee629891b448d8ad76ff05569ef78",
            "768cfd7e98f246b0b89d74850c847b03",
            "1e4b41319bb04edcac9ee2d61ad85471",
            "e78907871fea4b7f8dee390f4669bc30",
            "85dec930d53548328917f5e78cc26d6f",
            "173ac624c8db4670b4b293896c32feea",
            "dde5800e59e34d05baae91f47cd3a800",
            "d8615e2203af4f07a9273828a48d61c3",
            "9641fd3212b743e18118ffe253039932",
            "5bf2b0f9b33240e9bc09f2ada431cc1d",
            "5f76a0516eda4ef19987228a13911ba0",
            "f4a02492cffc4ebbaa5a0787c1c3b8a8",
            "179e5b2429684350bf8495be092682ce",
            "f3905a6ee52d43ada82b040fc3c7b512",
            "9a09a6aed88f4fd0a6c783fefcb05daf",
            "e1623816677349e9ab7e4ead2ea4f93f",
            "31ee796ce2944749b46227160716d8f0",
            "5b6cc97f62334c01a3b4f55bb1f72492",
            "7e33db2b676449cbb458ed2cbdde132c",
            "bf232568465a4aa0aa2096944eea0171",
            "3b48fbe6df1d4447ac0faae76fb6d296",
            "4298924a819546c9a8330b66f453134f",
            "68197d0ea9c64d079d39c4e1f99ba245",
            "e8528201d875473b92bd3e58a6cc8cc6",
            "d124b75c6adb4b23914fef9dff0207af",
            "53a11714a4924a92b30b10d26107486a",
            "dd9f687541cb4c95be910a66d1f27d4e",
            "c70cb391f62347dfa67bb49599ac1df9",
            "8e1de16b001f45ceb2e5b6f61654dffd",
            "cd1a91ed4e824fd187b7f16e8cc1d2b1",
            "743c358ddd1545afa5aa8f196c834f75",
            "cc2a73f245f6470d97b8149a966917b5",
            "ef8d38090b47436badf330ad339a7759",
            "75b61496bc3147d6845139942cf7fd11",
            "b54d549a24744007ab1c8506a2a0d28c",
            "2fe66f8ded7f4ddb8c0ee69de7c20b5d",
            "ebb7e54d494748c4b6014dfaab71110a",
            "b2f7a0499f0642d9be1ec94a3e5b126f",
            "a77ea37bf0044739a4d50e64d48dfe6f",
            "b3c911e6b8bd41028399c05e68a2b3ea",
            "d2a1981a3087491d930023532e8d76b3",
            "844053876a124ec4a1ebdd01b1eee24f",
            "b6b2a0442cc5400d94fed6aed6a3947b",
            "1edabd7153d944ad99fb5115a6646f6b",
            "1abfe2068346443a8a89b83b8cf4b6eb",
            "202f3db5a04846d6941d50b718db8262",
            "9c0b0d0e05b042579b25fc36910932a7",
            "da2fda7ce206499d8344834bb11c12b7",
            "ed447a7aa3d74df4964cbd8e2c784681",
            "89d723e85ba6452a81f521efca3a0c79",
            "9f94e944f23c4b8085560cf33cc9f700",
            "c36ea0fa790d4099a5644fc454050d8e",
            "6a29ff3ba73f49e1a8e5408bf74468db",
            "38e7159801394964a9d3040632d0dadb",
            "6b52cff67bc84ea9ba9b064ece1412d4",
            "cbb13605410146a8b3e65bc2f99ceb1d",
            "fec369fe939d466ca74919d103b539b9",
            "1ef28cbee06c4f6283612b1d18ec45a4",
            "e8e7b2957ae24f658a1b70a05f178c7d",
            "6b26a8fb7ff341e29a8a27d1e6bfa411",
            "9bd8256b730c4b268781025d0105c0ea",
            "3ec4cf46e2e84d579ac70e884a65e377",
            "afa389d4653842868571cd3c8b69a4d5",
            "4a73a987ce714909b9ed839fb6ca6d4f",
            "1a3d675c71714393be7875546dd7127d",
            "b936de8806534bd98333df5a29552df8",
            "412f3eb333054b48880f1945afb17b18",
            "ebc1fb856315479b87f19dbd8df713de",
            "b2611e03e026419a9286f9b3a45c68e4",
            "acbf85099acb43b8b08abcaba5a7a123",
            "2e036183a5f54c3385872fcec8214fef",
            "0d86ba477a2f4a4e832364e16a519faf"
          ]
        },
        "outputId": "799ff6e7-0789-44e9-9081-69d0bf80a64d"
      },
      "execution_count": null,
      "outputs": [
        {
          "output_type": "stream",
          "name": "stderr",
          "text": [
            "WARNING:absl:Variant folder /root/tensorflow_datasets/emnist/letters/3.1.0 has no dataset_info.json\n"
          ]
        },
        {
          "output_type": "stream",
          "name": "stdout",
          "text": [
            "Downloading and preparing dataset Unknown size (download: Unknown size, generated: Unknown size, total: Unknown size) to /root/tensorflow_datasets/emnist/letters/3.1.0...\n"
          ]
        },
        {
          "output_type": "display_data",
          "data": {
            "text/plain": [
              "Dl Completed...: 0 url [00:00, ? url/s]"
            ],
            "application/vnd.jupyter.widget-view+json": {
              "version_major": 2,
              "version_minor": 0,
              "model_id": "9ec1005a116d4e1e90bb07f73f198304"
            }
          },
          "metadata": {}
        },
        {
          "output_type": "display_data",
          "data": {
            "text/plain": [
              "Dl Size...: 0 MiB [00:00, ? MiB/s]"
            ],
            "application/vnd.jupyter.widget-view+json": {
              "version_major": 2,
              "version_minor": 0,
              "model_id": "345806ac6b89462cb7798f73cad7db3b"
            }
          },
          "metadata": {}
        },
        {
          "output_type": "display_data",
          "data": {
            "text/plain": [
              "Extraction completed...: 0 file [00:00, ? file/s]"
            ],
            "application/vnd.jupyter.widget-view+json": {
              "version_major": 2,
              "version_minor": 0,
              "model_id": "3680ab0a599646f6b0693faa678db005"
            }
          },
          "metadata": {}
        },
        {
          "output_type": "display_data",
          "data": {
            "text/plain": [
              "Extraction completed...: 0 file [00:00, ? file/s]"
            ],
            "application/vnd.jupyter.widget-view+json": {
              "version_major": 2,
              "version_minor": 0,
              "model_id": "dde5800e59e34d05baae91f47cd3a800"
            }
          },
          "metadata": {}
        },
        {
          "output_type": "display_data",
          "data": {
            "text/plain": [
              "Generating splits...:   0%|          | 0/2 [00:00<?, ? splits/s]"
            ],
            "application/vnd.jupyter.widget-view+json": {
              "version_major": 2,
              "version_minor": 0,
              "model_id": "5b6cc97f62334c01a3b4f55bb1f72492"
            }
          },
          "metadata": {}
        },
        {
          "output_type": "display_data",
          "data": {
            "text/plain": [
              "Generating train examples...: 0 examples [00:00, ? examples/s]"
            ],
            "application/vnd.jupyter.widget-view+json": {
              "version_major": 2,
              "version_minor": 0,
              "model_id": "8e1de16b001f45ceb2e5b6f61654dffd"
            }
          },
          "metadata": {}
        },
        {
          "output_type": "display_data",
          "data": {
            "text/plain": [
              "Shuffling /root/tensorflow_datasets/emnist/letters/incomplete.4J0F92_3.1.0/emnist-train.tfrecord*...:   0%|   …"
            ],
            "application/vnd.jupyter.widget-view+json": {
              "version_major": 2,
              "version_minor": 0,
              "model_id": "b3c911e6b8bd41028399c05e68a2b3ea"
            }
          },
          "metadata": {}
        },
        {
          "output_type": "display_data",
          "data": {
            "text/plain": [
              "Generating test examples...: 0 examples [00:00, ? examples/s]"
            ],
            "application/vnd.jupyter.widget-view+json": {
              "version_major": 2,
              "version_minor": 0,
              "model_id": "9f94e944f23c4b8085560cf33cc9f700"
            }
          },
          "metadata": {}
        },
        {
          "output_type": "display_data",
          "data": {
            "text/plain": [
              "Shuffling /root/tensorflow_datasets/emnist/letters/incomplete.4J0F92_3.1.0/emnist-test.tfrecord*...:   0%|    …"
            ],
            "application/vnd.jupyter.widget-view+json": {
              "version_major": 2,
              "version_minor": 0,
              "model_id": "3ec4cf46e2e84d579ac70e884a65e377"
            }
          },
          "metadata": {}
        },
        {
          "output_type": "stream",
          "name": "stdout",
          "text": [
            "Dataset emnist downloaded and prepared to /root/tensorflow_datasets/emnist/letters/3.1.0. Subsequent calls will reuse this data.\n"
          ]
        }
      ]
    },
    {
      "source": [
        "X_train,Y_train = [],[]\n",
        "for image,label in tfds.as_numpy(dtrain):\n",
        "  # Reshape the image to have 3 dimensions (height, width, channel)\n",
        "  image = image.reshape(image.shape[0], image.shape[1], 1)\n",
        "  img = tf.transpose(image, [1, 0, 2]) # Transpose with the channel dimension included\n",
        "  X_train.append(img)\n",
        "  Y_train.append(label)\n",
        "\n",
        "X_test,Y_test = [],[]\n",
        "for image,label in tfds.as_numpy(dtest):\n",
        "  # Reshape the image to have 3 dimensions (height, width, channel)\n",
        "  image = image.reshape(image.shape[0], image.shape[1], 1)\n",
        "  img = tf.transpose(image, [1, 0, 2]) # Transpose with the channel dimension included\n",
        "  X_test.append(img)\n",
        "  Y_test.append(label)"
      ],
      "cell_type": "code",
      "metadata": {
        "id": "-cU_CxmQemD3"
      },
      "execution_count": null,
      "outputs": []
    },
    {
      "cell_type": "code",
      "source": [
        "X_train,Y_train = np.array(X_train),np.array(Y_train)\n",
        "X_test,Y_test = np.array(X_test),np.array(Y_test)"
      ],
      "metadata": {
        "id": "TtpDWlcgIQP4"
      },
      "execution_count": null,
      "outputs": []
    },
    {
      "cell_type": "code",
      "source": [
        "X_train,X_test = X_train/255.0,X_test/255.0"
      ],
      "metadata": {
        "id": "rZG4JIeZIs8e"
      },
      "execution_count": null,
      "outputs": []
    },
    {
      "cell_type": "code",
      "source": [
        "X_train = X_train.reshape(X_train.shape[0],28,28,1)\n",
        "X_test = X_test.reshape(X_test.shape[0],28,28,1)"
      ],
      "metadata": {
        "id": "AjxqN11-I2yc"
      },
      "execution_count": null,
      "outputs": []
    },
    {
      "cell_type": "code",
      "source": [
        "Y_train = tf.keras.utils.to_categorical(Y_train-1,num_classes=26)\n",
        "Y_test = tf.keras.utils.to_categorical(Y_test-1,num_classes=26)"
      ],
      "metadata": {
        "id": "ncxxYbX7LHVu"
      },
      "execution_count": null,
      "outputs": []
    },
    {
      "cell_type": "markdown",
      "source": [
        "## Creating the CNN Model"
      ],
      "metadata": {
        "id": "9GDXc3zee4f-"
      }
    },
    {
      "cell_type": "code",
      "source": [
        "model = Sequential([\n",
        "    Conv2D(64,(3,3),activation='relu',input_shape=(28,28,1)),\n",
        "    MaxPooling2D((2,2)),\n",
        "    Conv2D(128,(3,3),activation='relu'),\n",
        "    MaxPooling2D((2,2)),\n",
        "    Conv2D(256,(3,3),activation='relu'),\n",
        "    MaxPooling2D((2,2)),\n",
        "    Flatten(),\n",
        "    Dense(256,activation='relu'),\n",
        "    Dropout(0.5),\n",
        "    Dense(26,activation='softmax')\n",
        "])"
      ],
      "metadata": {
        "id": "GJiFOJ1JJNJL",
        "colab": {
          "base_uri": "https://localhost:8080/"
        },
        "outputId": "dd002d97-a105-4f35-8721-0ac55b383a87"
      },
      "execution_count": null,
      "outputs": [
        {
          "output_type": "stream",
          "name": "stderr",
          "text": [
            "/usr/local/lib/python3.11/dist-packages/keras/src/layers/convolutional/base_conv.py:107: UserWarning: Do not pass an `input_shape`/`input_dim` argument to a layer. When using Sequential models, prefer using an `Input(shape)` object as the first layer in the model instead.\n",
            "  super().__init__(activity_regularizer=activity_regularizer, **kwargs)\n"
          ]
        }
      ]
    },
    {
      "cell_type": "code",
      "source": [
        "model.compile(optimizer=tf.keras.optimizers.Adam(learning_rate=0.001),loss='categorical_crossentropy',metrics=['accuracy'])\n",
        "model.summary()"
      ],
      "metadata": {
        "colab": {
          "base_uri": "https://localhost:8080/",
          "height": 463
        },
        "id": "W8PDpemDJ9d6",
        "outputId": "99d1ec11-4a06-4044-d065-bc60837ea59c"
      },
      "execution_count": null,
      "outputs": [
        {
          "output_type": "display_data",
          "data": {
            "text/plain": [
              "\u001b[1mModel: \"sequential\"\u001b[0m\n"
            ],
            "text/html": [
              "<pre style=\"white-space:pre;overflow-x:auto;line-height:normal;font-family:Menlo,'DejaVu Sans Mono',consolas,'Courier New',monospace\"><span style=\"font-weight: bold\">Model: \"sequential\"</span>\n",
              "</pre>\n"
            ]
          },
          "metadata": {}
        },
        {
          "output_type": "display_data",
          "data": {
            "text/plain": [
              "┏━━━━━━━━━━━━━━━━━━━━━━━━━━━━━━━━━━━━━━┳━━━━━━━━━━━━━━━━━━━━━━━━━━━━━┳━━━━━━━━━━━━━━━━━┓\n",
              "┃\u001b[1m \u001b[0m\u001b[1mLayer (type)                        \u001b[0m\u001b[1m \u001b[0m┃\u001b[1m \u001b[0m\u001b[1mOutput Shape               \u001b[0m\u001b[1m \u001b[0m┃\u001b[1m \u001b[0m\u001b[1m        Param #\u001b[0m\u001b[1m \u001b[0m┃\n",
              "┡━━━━━━━━━━━━━━━━━━━━━━━━━━━━━━━━━━━━━━╇━━━━━━━━━━━━━━━━━━━━━━━━━━━━━╇━━━━━━━━━━━━━━━━━┩\n",
              "│ conv2d (\u001b[38;5;33mConv2D\u001b[0m)                      │ (\u001b[38;5;45mNone\u001b[0m, \u001b[38;5;34m26\u001b[0m, \u001b[38;5;34m26\u001b[0m, \u001b[38;5;34m64\u001b[0m)          │             \u001b[38;5;34m640\u001b[0m │\n",
              "├──────────────────────────────────────┼─────────────────────────────┼─────────────────┤\n",
              "│ max_pooling2d (\u001b[38;5;33mMaxPooling2D\u001b[0m)         │ (\u001b[38;5;45mNone\u001b[0m, \u001b[38;5;34m13\u001b[0m, \u001b[38;5;34m13\u001b[0m, \u001b[38;5;34m64\u001b[0m)          │               \u001b[38;5;34m0\u001b[0m │\n",
              "├──────────────────────────────────────┼─────────────────────────────┼─────────────────┤\n",
              "│ conv2d_1 (\u001b[38;5;33mConv2D\u001b[0m)                    │ (\u001b[38;5;45mNone\u001b[0m, \u001b[38;5;34m11\u001b[0m, \u001b[38;5;34m11\u001b[0m, \u001b[38;5;34m128\u001b[0m)         │          \u001b[38;5;34m73,856\u001b[0m │\n",
              "├──────────────────────────────────────┼─────────────────────────────┼─────────────────┤\n",
              "│ max_pooling2d_1 (\u001b[38;5;33mMaxPooling2D\u001b[0m)       │ (\u001b[38;5;45mNone\u001b[0m, \u001b[38;5;34m5\u001b[0m, \u001b[38;5;34m5\u001b[0m, \u001b[38;5;34m128\u001b[0m)           │               \u001b[38;5;34m0\u001b[0m │\n",
              "├──────────────────────────────────────┼─────────────────────────────┼─────────────────┤\n",
              "│ conv2d_2 (\u001b[38;5;33mConv2D\u001b[0m)                    │ (\u001b[38;5;45mNone\u001b[0m, \u001b[38;5;34m3\u001b[0m, \u001b[38;5;34m3\u001b[0m, \u001b[38;5;34m256\u001b[0m)           │         \u001b[38;5;34m295,168\u001b[0m │\n",
              "├──────────────────────────────────────┼─────────────────────────────┼─────────────────┤\n",
              "│ max_pooling2d_2 (\u001b[38;5;33mMaxPooling2D\u001b[0m)       │ (\u001b[38;5;45mNone\u001b[0m, \u001b[38;5;34m1\u001b[0m, \u001b[38;5;34m1\u001b[0m, \u001b[38;5;34m256\u001b[0m)           │               \u001b[38;5;34m0\u001b[0m │\n",
              "├──────────────────────────────────────┼─────────────────────────────┼─────────────────┤\n",
              "│ flatten (\u001b[38;5;33mFlatten\u001b[0m)                    │ (\u001b[38;5;45mNone\u001b[0m, \u001b[38;5;34m256\u001b[0m)                 │               \u001b[38;5;34m0\u001b[0m │\n",
              "├──────────────────────────────────────┼─────────────────────────────┼─────────────────┤\n",
              "│ dense (\u001b[38;5;33mDense\u001b[0m)                        │ (\u001b[38;5;45mNone\u001b[0m, \u001b[38;5;34m256\u001b[0m)                 │          \u001b[38;5;34m65,792\u001b[0m │\n",
              "├──────────────────────────────────────┼─────────────────────────────┼─────────────────┤\n",
              "│ dropout (\u001b[38;5;33mDropout\u001b[0m)                    │ (\u001b[38;5;45mNone\u001b[0m, \u001b[38;5;34m256\u001b[0m)                 │               \u001b[38;5;34m0\u001b[0m │\n",
              "├──────────────────────────────────────┼─────────────────────────────┼─────────────────┤\n",
              "│ dense_1 (\u001b[38;5;33mDense\u001b[0m)                      │ (\u001b[38;5;45mNone\u001b[0m, \u001b[38;5;34m26\u001b[0m)                  │           \u001b[38;5;34m6,682\u001b[0m │\n",
              "└──────────────────────────────────────┴─────────────────────────────┴─────────────────┘\n"
            ],
            "text/html": [
              "<pre style=\"white-space:pre;overflow-x:auto;line-height:normal;font-family:Menlo,'DejaVu Sans Mono',consolas,'Courier New',monospace\">┏━━━━━━━━━━━━━━━━━━━━━━━━━━━━━━━━━━━━━━┳━━━━━━━━━━━━━━━━━━━━━━━━━━━━━┳━━━━━━━━━━━━━━━━━┓\n",
              "┃<span style=\"font-weight: bold\"> Layer (type)                         </span>┃<span style=\"font-weight: bold\"> Output Shape                </span>┃<span style=\"font-weight: bold\">         Param # </span>┃\n",
              "┡━━━━━━━━━━━━━━━━━━━━━━━━━━━━━━━━━━━━━━╇━━━━━━━━━━━━━━━━━━━━━━━━━━━━━╇━━━━━━━━━━━━━━━━━┩\n",
              "│ conv2d (<span style=\"color: #0087ff; text-decoration-color: #0087ff\">Conv2D</span>)                      │ (<span style=\"color: #00d7ff; text-decoration-color: #00d7ff\">None</span>, <span style=\"color: #00af00; text-decoration-color: #00af00\">26</span>, <span style=\"color: #00af00; text-decoration-color: #00af00\">26</span>, <span style=\"color: #00af00; text-decoration-color: #00af00\">64</span>)          │             <span style=\"color: #00af00; text-decoration-color: #00af00\">640</span> │\n",
              "├──────────────────────────────────────┼─────────────────────────────┼─────────────────┤\n",
              "│ max_pooling2d (<span style=\"color: #0087ff; text-decoration-color: #0087ff\">MaxPooling2D</span>)         │ (<span style=\"color: #00d7ff; text-decoration-color: #00d7ff\">None</span>, <span style=\"color: #00af00; text-decoration-color: #00af00\">13</span>, <span style=\"color: #00af00; text-decoration-color: #00af00\">13</span>, <span style=\"color: #00af00; text-decoration-color: #00af00\">64</span>)          │               <span style=\"color: #00af00; text-decoration-color: #00af00\">0</span> │\n",
              "├──────────────────────────────────────┼─────────────────────────────┼─────────────────┤\n",
              "│ conv2d_1 (<span style=\"color: #0087ff; text-decoration-color: #0087ff\">Conv2D</span>)                    │ (<span style=\"color: #00d7ff; text-decoration-color: #00d7ff\">None</span>, <span style=\"color: #00af00; text-decoration-color: #00af00\">11</span>, <span style=\"color: #00af00; text-decoration-color: #00af00\">11</span>, <span style=\"color: #00af00; text-decoration-color: #00af00\">128</span>)         │          <span style=\"color: #00af00; text-decoration-color: #00af00\">73,856</span> │\n",
              "├──────────────────────────────────────┼─────────────────────────────┼─────────────────┤\n",
              "│ max_pooling2d_1 (<span style=\"color: #0087ff; text-decoration-color: #0087ff\">MaxPooling2D</span>)       │ (<span style=\"color: #00d7ff; text-decoration-color: #00d7ff\">None</span>, <span style=\"color: #00af00; text-decoration-color: #00af00\">5</span>, <span style=\"color: #00af00; text-decoration-color: #00af00\">5</span>, <span style=\"color: #00af00; text-decoration-color: #00af00\">128</span>)           │               <span style=\"color: #00af00; text-decoration-color: #00af00\">0</span> │\n",
              "├──────────────────────────────────────┼─────────────────────────────┼─────────────────┤\n",
              "│ conv2d_2 (<span style=\"color: #0087ff; text-decoration-color: #0087ff\">Conv2D</span>)                    │ (<span style=\"color: #00d7ff; text-decoration-color: #00d7ff\">None</span>, <span style=\"color: #00af00; text-decoration-color: #00af00\">3</span>, <span style=\"color: #00af00; text-decoration-color: #00af00\">3</span>, <span style=\"color: #00af00; text-decoration-color: #00af00\">256</span>)           │         <span style=\"color: #00af00; text-decoration-color: #00af00\">295,168</span> │\n",
              "├──────────────────────────────────────┼─────────────────────────────┼─────────────────┤\n",
              "│ max_pooling2d_2 (<span style=\"color: #0087ff; text-decoration-color: #0087ff\">MaxPooling2D</span>)       │ (<span style=\"color: #00d7ff; text-decoration-color: #00d7ff\">None</span>, <span style=\"color: #00af00; text-decoration-color: #00af00\">1</span>, <span style=\"color: #00af00; text-decoration-color: #00af00\">1</span>, <span style=\"color: #00af00; text-decoration-color: #00af00\">256</span>)           │               <span style=\"color: #00af00; text-decoration-color: #00af00\">0</span> │\n",
              "├──────────────────────────────────────┼─────────────────────────────┼─────────────────┤\n",
              "│ flatten (<span style=\"color: #0087ff; text-decoration-color: #0087ff\">Flatten</span>)                    │ (<span style=\"color: #00d7ff; text-decoration-color: #00d7ff\">None</span>, <span style=\"color: #00af00; text-decoration-color: #00af00\">256</span>)                 │               <span style=\"color: #00af00; text-decoration-color: #00af00\">0</span> │\n",
              "├──────────────────────────────────────┼─────────────────────────────┼─────────────────┤\n",
              "│ dense (<span style=\"color: #0087ff; text-decoration-color: #0087ff\">Dense</span>)                        │ (<span style=\"color: #00d7ff; text-decoration-color: #00d7ff\">None</span>, <span style=\"color: #00af00; text-decoration-color: #00af00\">256</span>)                 │          <span style=\"color: #00af00; text-decoration-color: #00af00\">65,792</span> │\n",
              "├──────────────────────────────────────┼─────────────────────────────┼─────────────────┤\n",
              "│ dropout (<span style=\"color: #0087ff; text-decoration-color: #0087ff\">Dropout</span>)                    │ (<span style=\"color: #00d7ff; text-decoration-color: #00d7ff\">None</span>, <span style=\"color: #00af00; text-decoration-color: #00af00\">256</span>)                 │               <span style=\"color: #00af00; text-decoration-color: #00af00\">0</span> │\n",
              "├──────────────────────────────────────┼─────────────────────────────┼─────────────────┤\n",
              "│ dense_1 (<span style=\"color: #0087ff; text-decoration-color: #0087ff\">Dense</span>)                      │ (<span style=\"color: #00d7ff; text-decoration-color: #00d7ff\">None</span>, <span style=\"color: #00af00; text-decoration-color: #00af00\">26</span>)                  │           <span style=\"color: #00af00; text-decoration-color: #00af00\">6,682</span> │\n",
              "└──────────────────────────────────────┴─────────────────────────────┴─────────────────┘\n",
              "</pre>\n"
            ]
          },
          "metadata": {}
        },
        {
          "output_type": "display_data",
          "data": {
            "text/plain": [
              "\u001b[1m Total params: \u001b[0m\u001b[38;5;34m442,138\u001b[0m (1.69 MB)\n"
            ],
            "text/html": [
              "<pre style=\"white-space:pre;overflow-x:auto;line-height:normal;font-family:Menlo,'DejaVu Sans Mono',consolas,'Courier New',monospace\"><span style=\"font-weight: bold\"> Total params: </span><span style=\"color: #00af00; text-decoration-color: #00af00\">442,138</span> (1.69 MB)\n",
              "</pre>\n"
            ]
          },
          "metadata": {}
        },
        {
          "output_type": "display_data",
          "data": {
            "text/plain": [
              "\u001b[1m Trainable params: \u001b[0m\u001b[38;5;34m442,138\u001b[0m (1.69 MB)\n"
            ],
            "text/html": [
              "<pre style=\"white-space:pre;overflow-x:auto;line-height:normal;font-family:Menlo,'DejaVu Sans Mono',consolas,'Courier New',monospace\"><span style=\"font-weight: bold\"> Trainable params: </span><span style=\"color: #00af00; text-decoration-color: #00af00\">442,138</span> (1.69 MB)\n",
              "</pre>\n"
            ]
          },
          "metadata": {}
        },
        {
          "output_type": "display_data",
          "data": {
            "text/plain": [
              "\u001b[1m Non-trainable params: \u001b[0m\u001b[38;5;34m0\u001b[0m (0.00 B)\n"
            ],
            "text/html": [
              "<pre style=\"white-space:pre;overflow-x:auto;line-height:normal;font-family:Menlo,'DejaVu Sans Mono',consolas,'Courier New',monospace\"><span style=\"font-weight: bold\"> Non-trainable params: </span><span style=\"color: #00af00; text-decoration-color: #00af00\">0</span> (0.00 B)\n",
              "</pre>\n"
            ]
          },
          "metadata": {}
        }
      ]
    },
    {
      "cell_type": "markdown",
      "source": [
        "## Training the Model"
      ],
      "metadata": {
        "id": "p-G8Iogue91U"
      }
    },
    {
      "cell_type": "code",
      "source": [
        "model.fit(X_train,Y_train,epochs=10,batch_size=16,validation_data=(X_test,Y_test))"
      ],
      "metadata": {
        "colab": {
          "base_uri": "https://localhost:8080/"
        },
        "id": "eyCP_RLdKSW_",
        "outputId": "ef8da6cf-aa10-4c6f-c381-0a15949e0166"
      },
      "execution_count": null,
      "outputs": [
        {
          "output_type": "stream",
          "name": "stdout",
          "text": [
            "Epoch 1/10\n",
            "\u001b[1m5550/5550\u001b[0m \u001b[32m━━━━━━━━━━━━━━━━━━━━\u001b[0m\u001b[37m\u001b[0m \u001b[1m27s\u001b[0m 4ms/step - accuracy: 0.6524 - loss: 1.1061 - val_accuracy: 0.8491 - val_loss: 0.4378\n",
            "Epoch 2/10\n",
            "\u001b[1m5550/5550\u001b[0m \u001b[32m━━━━━━━━━━━━━━━━━━━━\u001b[0m\u001b[37m\u001b[0m \u001b[1m36s\u001b[0m 4ms/step - accuracy: 0.8718 - loss: 0.3857 - val_accuracy: 0.8805 - val_loss: 0.3370\n",
            "Epoch 3/10\n",
            "\u001b[1m5550/5550\u001b[0m \u001b[32m━━━━━━━━━━━━━━━━━━━━\u001b[0m\u001b[37m\u001b[0m \u001b[1m21s\u001b[0m 4ms/step - accuracy: 0.8968 - loss: 0.3089 - val_accuracy: 0.8849 - val_loss: 0.3407\n",
            "Epoch 4/10\n",
            "\u001b[1m5550/5550\u001b[0m \u001b[32m━━━━━━━━━━━━━━━━━━━━\u001b[0m\u001b[37m\u001b[0m \u001b[1m41s\u001b[0m 4ms/step - accuracy: 0.9084 - loss: 0.2714 - val_accuracy: 0.8891 - val_loss: 0.3195\n",
            "Epoch 5/10\n",
            "\u001b[1m5550/5550\u001b[0m \u001b[32m━━━━━━━━━━━━━━━━━━━━\u001b[0m\u001b[37m\u001b[0m \u001b[1m41s\u001b[0m 4ms/step - accuracy: 0.9159 - loss: 0.2405 - val_accuracy: 0.8906 - val_loss: 0.3165\n",
            "Epoch 6/10\n",
            "\u001b[1m5550/5550\u001b[0m \u001b[32m━━━━━━━━━━━━━━━━━━━━\u001b[0m\u001b[37m\u001b[0m \u001b[1m21s\u001b[0m 4ms/step - accuracy: 0.9227 - loss: 0.2201 - val_accuracy: 0.8941 - val_loss: 0.3192\n",
            "Epoch 7/10\n",
            "\u001b[1m5550/5550\u001b[0m \u001b[32m━━━━━━━━━━━━━━━━━━━━\u001b[0m\u001b[37m\u001b[0m \u001b[1m40s\u001b[0m 4ms/step - accuracy: 0.9253 - loss: 0.2063 - val_accuracy: 0.8987 - val_loss: 0.3247\n",
            "Epoch 8/10\n",
            "\u001b[1m5550/5550\u001b[0m \u001b[32m━━━━━━━━━━━━━━━━━━━━\u001b[0m\u001b[37m\u001b[0m \u001b[1m42s\u001b[0m 4ms/step - accuracy: 0.9334 - loss: 0.1865 - val_accuracy: 0.8968 - val_loss: 0.3292\n",
            "Epoch 9/10\n",
            "\u001b[1m5550/5550\u001b[0m \u001b[32m━━━━━━━━━━━━━━━━━━━━\u001b[0m\u001b[37m\u001b[0m \u001b[1m22s\u001b[0m 4ms/step - accuracy: 0.9353 - loss: 0.1772 - val_accuracy: 0.8937 - val_loss: 0.3759\n",
            "Epoch 10/10\n",
            "\u001b[1m5550/5550\u001b[0m \u001b[32m━━━━━━━━━━━━━━━━━━━━\u001b[0m\u001b[37m\u001b[0m \u001b[1m22s\u001b[0m 4ms/step - accuracy: 0.9372 - loss: 0.1708 - val_accuracy: 0.8989 - val_loss: 0.3450\n"
          ]
        },
        {
          "output_type": "execute_result",
          "data": {
            "text/plain": [
              "<keras.src.callbacks.history.History at 0x79e847de5dd0>"
            ]
          },
          "metadata": {},
          "execution_count": 16
        }
      ]
    },
    {
      "cell_type": "code",
      "source": [
        "test_loss,test_acc = model.evaluate(X_test,Y_test)\n",
        "print(test_acc)"
      ],
      "metadata": {
        "colab": {
          "base_uri": "https://localhost:8080/"
        },
        "id": "Hc1TNiWDNEMq",
        "outputId": "7ce699ed-d3ca-48c1-f1e4-3d34b2ad0cba"
      },
      "execution_count": null,
      "outputs": [
        {
          "output_type": "stream",
          "name": "stdout",
          "text": [
            "\u001b[1m463/463\u001b[0m \u001b[32m━━━━━━━━━━━━━━━━━━━━\u001b[0m\u001b[37m\u001b[0m \u001b[1m1s\u001b[0m 3ms/step - accuracy: 0.8993 - loss: 0.4830\n",
            "0.898243248462677\n"
          ]
        }
      ]
    },
    {
      "cell_type": "markdown",
      "source": [
        "## Testing the Model on Test Cases"
      ],
      "metadata": {
        "id": "0157gEayfBY5"
      }
    },
    {
      "cell_type": "code",
      "source": [
        "prediction = model.predict(X_test[101].reshape(1,28,28,1))\n",
        "pred_label = np.argmax(prediction)\n",
        "predicted_letter = chr(pred_label + ord('A'))\n",
        "print(predicted_letter)\n",
        "\n",
        "plt.imshow(X_test[101].squeeze(),cmap='gray')\n",
        "plt.show()"
      ],
      "metadata": {
        "colab": {
          "base_uri": "https://localhost:8080/",
          "height": 466
        },
        "id": "uwXW5pQDNN8v",
        "outputId": "2c482bba-287c-49cf-c199-201e98b98b73"
      },
      "execution_count": null,
      "outputs": [
        {
          "output_type": "stream",
          "name": "stdout",
          "text": [
            "\u001b[1m1/1\u001b[0m \u001b[32m━━━━━━━━━━━━━━━━━━━━\u001b[0m\u001b[37m\u001b[0m \u001b[1m0s\u001b[0m 43ms/step\n",
            "E\n"
          ]
        },
        {
          "output_type": "display_data",
          "data": {
            "text/plain": [
              "<Figure size 640x480 with 1 Axes>"
            ],
            "image/png": "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\n"
          },
          "metadata": {}
        }
      ]
    },
    {
      "cell_type": "markdown",
      "source": [
        "## Testing the model on Real World Cases"
      ],
      "metadata": {
        "id": "NxQxFNdDfFqs"
      }
    },
    {
      "cell_type": "code",
      "source": [
        "img = cv2.imread('n.png',cv2.IMREAD_GRAYSCALE)\n",
        "img = cv2.resize(img,(28,28))\n",
        "img = img/255.0\n",
        "img = img.reshape(1,28,28,1)\n",
        "\n",
        "prediction1 = model.predict(img)\n",
        "pred_label1 = np.argmax(prediction1)\n",
        "predicted_letter1 = chr(pred_label1+ord('A'))\n",
        "\n",
        "print(predicted_letter1)\n",
        "\n",
        "plt.imshow(img.squeeze(),cmap='gray')\n",
        "plt.show()"
      ],
      "metadata": {
        "colab": {
          "base_uri": "https://localhost:8080/",
          "height": 466
        },
        "id": "Ro4kKCvUO1c1",
        "outputId": "4e6f4d13-9861-4fe2-be1b-19584ea7a7f1"
      },
      "execution_count": null,
      "outputs": [
        {
          "output_type": "stream",
          "name": "stdout",
          "text": [
            "\u001b[1m1/1\u001b[0m \u001b[32m━━━━━━━━━━━━━━━━━━━━\u001b[0m\u001b[37m\u001b[0m \u001b[1m0s\u001b[0m 29ms/step\n",
            "N\n"
          ]
        },
        {
          "output_type": "display_data",
          "data": {
            "text/plain": [
              "<Figure size 640x480 with 1 Axes>"
            ],
            "image/png": "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\n"
          },
          "metadata": {}
        }
      ]
    },
    {
      "cell_type": "code",
      "source": [
        "img = cv2.imread('a.png',cv2.IMREAD_GRAYSCALE)\n",
        "img = cv2.resize(img,(28,28))\n",
        "img = img/255.0\n",
        "img = img.reshape(1,28,28,1)\n",
        "\n",
        "prediction1 = model.predict(img)\n",
        "pred_label1 = np.argmax(prediction1)\n",
        "predicted_letter1 = chr(pred_label1+ord('A'))\n",
        "\n",
        "print(predicted_letter1)\n",
        "\n",
        "plt.imshow(img.squeeze(),cmap='gray')\n",
        "plt.show()"
      ],
      "metadata": {
        "colab": {
          "base_uri": "https://localhost:8080/",
          "height": 466
        },
        "id": "zIThHzZ2nT3r",
        "outputId": "adb421c4-7df1-44af-ad2b-9dcf1f67de37"
      },
      "execution_count": null,
      "outputs": [
        {
          "output_type": "stream",
          "name": "stdout",
          "text": [
            "\u001b[1m1/1\u001b[0m \u001b[32m━━━━━━━━━━━━━━━━━━━━\u001b[0m\u001b[37m\u001b[0m \u001b[1m0s\u001b[0m 30ms/step\n",
            "A\n"
          ]
        },
        {
          "output_type": "display_data",
          "data": {
            "text/plain": [
              "<Figure size 640x480 with 1 Axes>"
            ],
            "image/png": "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\n"
          },
          "metadata": {}
        }
      ]
    },
    {
      "cell_type": "code",
      "source": [
        "img = cv2.imread('d.png',cv2.IMREAD_GRAYSCALE)\n",
        "img = cv2.resize(img,(28,28))\n",
        "img = img/255.0\n",
        "img = img.reshape(1,28,28,1)\n",
        "\n",
        "prediction1 = model.predict(img)\n",
        "pred_label1 = np.argmax(prediction1)\n",
        "predicted_letter1 = chr(pred_label1+ord('A'))\n",
        "\n",
        "print(predicted_letter1)\n",
        "\n",
        "plt.imshow(img.squeeze(),cmap='gray')\n",
        "plt.show()"
      ],
      "metadata": {
        "colab": {
          "base_uri": "https://localhost:8080/",
          "height": 466
        },
        "id": "JTf6rj5Vn6Fz",
        "outputId": "c4bdb6b3-4324-4b6f-d7ae-1de30c2939d8"
      },
      "execution_count": null,
      "outputs": [
        {
          "output_type": "stream",
          "name": "stdout",
          "text": [
            "\u001b[1m1/1\u001b[0m \u001b[32m━━━━━━━━━━━━━━━━━━━━\u001b[0m\u001b[37m\u001b[0m \u001b[1m0s\u001b[0m 46ms/step\n",
            "D\n"
          ]
        },
        {
          "output_type": "display_data",
          "data": {
            "text/plain": [
              "<Figure size 640x480 with 1 Axes>"
            ],
            "image/png": "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\n"
          },
          "metadata": {}
        }
      ]
    },
    {
      "cell_type": "code",
      "source": [
        "img = cv2.imread('i.png',cv2.IMREAD_GRAYSCALE)\n",
        "img = cv2.resize(img,(28,28))\n",
        "img = img/255.0\n",
        "img = img.reshape(1,28,28,1)\n",
        "\n",
        "prediction1 = model.predict(img)\n",
        "pred_label1 = np.argmax(prediction1)\n",
        "predicted_letter1 = chr(pred_label1+ord('A'))\n",
        "\n",
        "print(predicted_letter1)\n",
        "\n",
        "plt.imshow(img.squeeze(),cmap='gray')\n",
        "plt.show()"
      ],
      "metadata": {
        "colab": {
          "base_uri": "https://localhost:8080/",
          "height": 466
        },
        "id": "-WutcOEaoL3e",
        "outputId": "d79d94b4-6e93-4e39-cfd0-ffa361234e8a"
      },
      "execution_count": null,
      "outputs": [
        {
          "output_type": "stream",
          "name": "stdout",
          "text": [
            "\u001b[1m1/1\u001b[0m \u001b[32m━━━━━━━━━━━━━━━━━━━━\u001b[0m\u001b[37m\u001b[0m \u001b[1m0s\u001b[0m 30ms/step\n",
            "I\n"
          ]
        },
        {
          "output_type": "display_data",
          "data": {
            "text/plain": [
              "<Figure size 640x480 with 1 Axes>"
            ],
            "image/png": "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\n"
          },
          "metadata": {}
        }
      ]
    }
  ]
}
